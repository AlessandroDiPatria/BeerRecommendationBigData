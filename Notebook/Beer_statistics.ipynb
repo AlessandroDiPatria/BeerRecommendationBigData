{
  "nbformat": 4,
  "nbformat_minor": 0,
  "metadata": {
    "colab": {
      "name": "Beer_statistics.ipynb",
      "provenance": []
    },
    "kernelspec": {
      "name": "python3",
      "display_name": "Python 3"
    },
    "language_info": {
      "name": "python"
    }
  },
  "cells": [
    {
      "cell_type": "markdown",
      "source": [
        "# Beer Dataset statistics\n",
        "\n"
      ],
      "metadata": {
        "id": "6y_T7mVwHLMw"
      }
    },
    {
      "cell_type": "markdown",
      "source": [
        "##Exploring the dataset and giving some relevant informations\n",
        "1. Top Most rewewed beers (Plot Graph)\n",
        "2. The most active drinker (Plot Graph)\n",
        "3. The stronghest beers (ABV) (Plot Graph)\n",
        "4. Which of the factors (aroma, taste, appearance, palette) are most important in determining the overall quality of a beer?\n",
        "5. How sparse is tour data ?\n",
        "6. Null Value\n",
        "7. Duplicates\n"
      ],
      "metadata": {
        "id": "iRfUQ0QkqBpY"
      }
    },
    {
      "cell_type": "code",
      "execution_count": null,
      "metadata": {
        "colab": {
          "base_uri": "https://localhost:8080/"
        },
        "id": "5UVefL_rkbo0",
        "outputId": "3201d8bc-4312-4b87-93ca-c58ece25673c"
      },
      "outputs": [
        {
          "output_type": "stream",
          "name": "stdout",
          "text": [
            "Looking in indexes: https://pypi.org/simple, https://us-python.pkg.dev/colab-wheels/public/simple/\n",
            "Collecting pyspark\n",
            "  Downloading pyspark-3.3.0.tar.gz (281.3 MB)\n",
            "\u001b[K     |████████████████████████████████| 281.3 MB 43 kB/s \n",
            "\u001b[?25hCollecting py4j==0.10.9.5\n",
            "  Downloading py4j-0.10.9.5-py2.py3-none-any.whl (199 kB)\n",
            "\u001b[K     |████████████████████████████████| 199 kB 43.8 MB/s \n",
            "\u001b[?25hBuilding wheels for collected packages: pyspark\n",
            "  Building wheel for pyspark (setup.py) ... \u001b[?25l\u001b[?25hdone\n",
            "  Created wheel for pyspark: filename=pyspark-3.3.0-py2.py3-none-any.whl size=281764026 sha256=776862a8acc3af7c72e2a0eeac286ea1ecc3b945ba299b277674e14292f350da\n",
            "  Stored in directory: /root/.cache/pip/wheels/7a/8e/1b/f73a52650d2e5f337708d9f6a1750d451a7349a867f928b885\n",
            "Successfully built pyspark\n",
            "Installing collected packages: py4j, pyspark\n",
            "Successfully installed py4j-0.10.9.5 pyspark-3.3.0\n"
          ]
        }
      ],
      "source": [
        "import requests\n",
        "import pandas as pd\n",
        "import numpy as np\n",
        "import matplotlib.pyplot as plt\n",
        "import seaborn as sns\n",
        "%matplotlib inline\n",
        "!pip install pyspark\n",
        "import pyspark\n",
        "from pyspark.sql import *\n",
        "from pyspark.sql.types import *\n",
        "from pyspark.sql.functions import *\n",
        "from pyspark import SparkContext, SparkConf"
      ]
    },
    {
      "cell_type": "markdown",
      "source": [
        ""
      ],
      "metadata": {
        "id": "GiPK4ZisHK7b"
      }
    },
    {
      "cell_type": "markdown",
      "source": [
        ""
      ],
      "metadata": {
        "id": "1RYMUexcHLBY"
      }
    },
    {
      "cell_type": "code",
      "source": [
        "from google.colab import drive\n",
        "drive.mount('/content/drive')"
      ],
      "metadata": {
        "colab": {
          "base_uri": "https://localhost:8080/"
        },
        "id": "zwcAnORIk0n_",
        "outputId": "bb334a8b-35a1-40a5-edb6-7c308ff68290"
      },
      "execution_count": null,
      "outputs": [
        {
          "output_type": "stream",
          "name": "stdout",
          "text": [
            "Mounted at /content/drive\n"
          ]
        }
      ]
    },
    {
      "cell_type": "code",
      "source": [
        "# Create the session\n",
        "conf = SparkConf().set(\"spark.ui.port\", \"4050\").set('spark.executor.memory', '4G').set('spark.driver.memory', '45G').set('spark.driver.maxResultSize', '10G')\n",
        "\n",
        "# Create the context\n",
        "sc = pyspark.SparkContext(conf=conf)\n",
        "spark = SparkSession.builder.getOrCreate()"
      ],
      "metadata": {
        "id": "eycgPqyXk4Q5"
      },
      "execution_count": null,
      "outputs": []
    },
    {
      "cell_type": "code",
      "source": [
        "spark = SparkSession.builder.appName(\"Raccomandation\").getOrCreate()\n",
        "data = spark.read.csv(\"/content/drive/MyDrive/UNIVERSITA/BIG DATA/BIG DATA /beer_reviews.csv\",inferSchema= True,header = True)"
      ],
      "metadata": {
        "id": "JPFNxRO-k781"
      },
      "execution_count": null,
      "outputs": []
    },
    {
      "cell_type": "code",
      "source": [
        "data.describe().show()"
      ],
      "metadata": {
        "colab": {
          "base_uri": "https://localhost:8080/"
        },
        "id": "-2oOnceDYqGD",
        "outputId": "d058911f-de9a-4a4e-aa1f-c2daf4adad04"
      },
      "execution_count": null,
      "outputs": [
        {
          "output_type": "stream",
          "name": "stdout",
          "text": [
            "+-------+------------------+--------------------+--------------------+------------------+------------------+------------------+--------------------+----------+------------------+------------------+------------------------+------------------+-----------------+\n",
            "|summary|        brewery_id|        brewery_name|         review_time|    review_overall|      review_aroma| review_appearance|  review_profilename|beer_style|     review_palate|      review_taste|               beer_name|          beer_abv|      beer_beerid|\n",
            "+-------+------------------+--------------------+--------------------+------------------+------------------+------------------+--------------------+----------+------------------+------------------+------------------------+------------------+-----------------+\n",
            "|  count|           1586614|             1586599|             1586614|           1586614|           1586614|           1586614|             1586266|   1586614|           1586614|           1586614|                 1586614|           1518829|          1586614|\n",
            "|   mean|3130.0992018222455|                null|1.2240892800122108E9|3.8155808533140387| 3.735636077836197|3.8416416973504584|4.8875126087603307E8|      null|3.7437013665579655| 3.792860456292457|       2684.936936936937| 7.042386753219579|21712.79427888573|\n",
            "| stddev| 5578.103987474297|                null| 7.654427453923562E7| 0.720621868051718|0.6976167287896318|0.6160927688920651| 5.370061777898421E9|      null|0.6822183633739453|0.7319696098919132|      12877.219938886066|2.3225259927418085|21818.33599666985|\n",
            "|    min|                 1|\"Cheboksarskaya P...|           840672001|               0.0|               1.0|               0.0|            0110x011|   Altbier|               1.0|               1.0|             ! (Old Ale)|              0.01|                3|\n",
            "|    max|             28003|Łódzkie Browary S.A.|          1326285348|               5.0|               5.0|               5.0|            zzajjber|   Witbier|               5.0|               5.0|葉山ビール (Hayama Beer)|              57.7|            77317|\n",
            "+-------+------------------+--------------------+--------------------+------------------+------------------+------------------+--------------------+----------+------------------+------------------+------------------------+------------------+-----------------+\n",
            "\n"
          ]
        }
      ]
    },
    {
      "cell_type": "markdown",
      "source": [
        "# Percentage of duplicated reviews "
      ],
      "metadata": {
        "id": "iNPl609r8bJl"
      }
    },
    {
      "cell_type": "code",
      "source": [
        "dropDisDF = data.dropDuplicates([\"review_profilename\",\"beer_beerid\"])\n",
        "print(\"Distinct count of users who rates a beer  : \"+str(dropDisDF.count()))\n",
        "print( \"percentage of duplicated is equal to \" + str(((data.count()-dropDisDF.count())/data.count()))+ \"%\")"
      ],
      "metadata": {
        "colab": {
          "base_uri": "https://localhost:8080/"
        },
        "id": "ZukvzeYx8mUB",
        "outputId": "3f324868-4e1c-446b-cfc9-26d3e4a57fa6"
      },
      "execution_count": null,
      "outputs": [
        {
          "output_type": "stream",
          "name": "stdout",
          "text": [
            "Distinct count of users who rates a beer  : 1571808\n",
            "percentage of duplicated is equal to 0.009331822358809388%\n"
          ]
        }
      ]
    },
    {
      "cell_type": "markdown",
      "source": [
        "#Top 10 Most rated Beers"
      ],
      "metadata": {
        "id": "juvuOlKEq2-x"
      }
    },
    {
      "cell_type": "code",
      "source": [
        "data2 = data.orderBy(col(\"review_aroma\").desc(),col(\"review_appearance\").desc(),col(\"review_palate\").desc(),col(\"review_taste\").desc(),col(\"review_overall\").desc())"
      ],
      "metadata": {
        "id": "m3D4NTSolMM8"
      },
      "execution_count": null,
      "outputs": []
    },
    {
      "cell_type": "code",
      "source": [
        "reviews = data2.select(\"beer_beerid\",\"beer_name\",\"review_aroma\",\"review_appearance\",\"review_palate\",\"review_taste\")\n",
        "\n",
        "reviews.select(\"beer_beerid\",\"beer_name\",\"review_aroma\",\"review_appearance\",\"review_palate\",\"review_taste\").show(10)"
      ],
      "metadata": {
        "colab": {
          "base_uri": "https://localhost:8080/"
        },
        "id": "Eb0adzhnlg0y",
        "outputId": "27ec287b-7949-43db-a9dd-e267dde6dd62"
      },
      "execution_count": null,
      "outputs": [
        {
          "output_type": "stream",
          "name": "stdout",
          "text": [
            "+-----------+--------------------+------------+-----------------+-------------+------------+\n",
            "|beer_beerid|           beer_name|review_aroma|review_appearance|review_palate|review_taste|\n",
            "+-----------+--------------------+------------+-----------------+-------------+------------+\n",
            "|      57110|D.O.R.I.S. The De...|         5.0|              5.0|          5.0|         5.0|\n",
            "|      57172|The Worthy Adversary|         5.0|              5.0|          5.0|         5.0|\n",
            "|      57110|D.O.R.I.S. The De...|         5.0|              5.0|          5.0|         5.0|\n",
            "|      57110|D.O.R.I.S. The De...|         5.0|              5.0|          5.0|         5.0|\n",
            "|      57110|D.O.R.I.S. The De...|         5.0|              5.0|          5.0|         5.0|\n",
            "|      10784|         Caldera IPA|         5.0|              5.0|          5.0|         5.0|\n",
            "|      47695|Barrel Aged B.O.R...|         5.0|              5.0|          5.0|         5.0|\n",
            "|      57110|D.O.R.I.S. The De...|         5.0|              5.0|          5.0|         5.0|\n",
            "|      33644|B.O.R.I.S. The Cr...|         5.0|              5.0|          5.0|         5.0|\n",
            "|      16491|  T.J.'s Best Bitter|         5.0|              5.0|          5.0|         5.0|\n",
            "+-----------+--------------------+------------+-----------------+-------------+------------+\n",
            "only showing top 10 rows\n",
            "\n"
          ]
        }
      ]
    },
    {
      "cell_type": "markdown",
      "source": [
        " # Most Common rate by Community \n",
        "In this cell I'm plotting a bargraph about most common rate"
      ],
      "metadata": {
        "id": "s1C_S0_45tLE"
      }
    },
    {
      "cell_type": "code",
      "source": [
        "reviews = data.toPandas()"
      ],
      "metadata": {
        "id": "7fBWSttGA5fO"
      },
      "execution_count": null,
      "outputs": []
    },
    {
      "cell_type": "code",
      "source": [
        "sns.set_style(\"darkgrid\")\n",
        "sns.set_context(\"notebook\", rc={\"lines.linewidth\": 2, \n",
        "                                \"xtick.labelsize\":14, \n",
        "                                \"ytick.labelsize\":14,\n",
        "                                \"axes.labelsize\": 18,\n",
        "                                \"axes.titlesize\": 20,\n",
        "                                })"
      ],
      "metadata": {
        "id": "Al2kjtx0_VO3"
      },
      "execution_count": null,
      "outputs": []
    },
    {
      "cell_type": "code",
      "source": [
        "fig, ax = plt.subplots(1, 1, figsize=(8,8))\n",
        "\n",
        "ax = sns.countplot(x=\"review_overall\", data = reviews)"
      ],
      "metadata": {
        "colab": {
          "base_uri": "https://localhost:8080/",
          "height": 512
        },
        "id": "DO62FVTrAItB",
        "outputId": "521e07ff-164e-47d6-e5bf-e7b9723f491f"
      },
      "execution_count": null,
      "outputs": [
        {
          "output_type": "display_data",
          "data": {
            "text/plain": [
              "<Figure size 576x576 with 1 Axes>"
            ],
            "image/png": "[encoded data removed]"
          },
          "metadata": {}
        }
      ]
    },
    {
      "cell_type": "markdown",
      "source": [
        "#What are the top 10 most popular beers ?\n",
        "In this cell I'm plotting a bargraph about most popular (reviewed) beers\n"
      ],
      "metadata": {
        "id": "Es5kT-2tqaJJ"
      }
    },
    {
      "cell_type": "code",
      "source": [
        "ok = data.groupBy(\"beer_name\").count().orderBy(col(\"beer_name\"))\n",
        "data2 = ok.sort(col(\"count\").desc())\n",
        "display_data = data2.limit(5)\n",
        "display_data.show()\n",
        "review_statistics = display_data.toPandas() "
      ],
      "metadata": {
        "colab": {
          "base_uri": "https://localhost:8080/"
        },
        "id": "U_X7nlQFqY4a",
        "outputId": "8cfe79e4-0387-460d-b726-79babee3ed86"
      },
      "execution_count": null,
      "outputs": [
        {
          "output_type": "stream",
          "name": "stdout",
          "text": [
            "+--------------------+-----+\n",
            "|           beer_name|count|\n",
            "+--------------------+-----+\n",
            "|       90 Minute IPA| 3290|\n",
            "|      India Pale Ale| 3130|\n",
            "|Old Rasputin Russ...| 3111|\n",
            "|Sierra Nevada Cel...| 3000|\n",
            "|     Two Hearted Ale| 2728|\n",
            "+--------------------+-----+\n",
            "\n"
          ]
        }
      ]
    },
    {
      "cell_type": "code",
      "source": [
        "review_statistics.plot.barh(x='beer_name', y='count')  "
      ],
      "metadata": {
        "colab": {
          "base_uri": "https://localhost:8080/",
          "height": 290
        },
        "id": "hlycfu3k2NqH",
        "outputId": "662f5672-7f4b-4c4d-ce4c-efba09a622b1"
      },
      "execution_count": null,
      "outputs": [
        {
          "output_type": "execute_result",
          "data": {
            "text/plain": [
              "<matplotlib.axes._subplots.AxesSubplot at 0x7fa4b89ff210>"
            ]
          },
          "metadata": {},
          "execution_count": 13
        },
        {
          "output_type": "display_data",
          "data": {
            "text/plain": [
              "<Figure size 432x288 with 1 Axes>"
            ],
            "image/png": "[encoded data removed]"
          },
          "metadata": {}
        }
      ]
    },
    {
      "cell_type": "markdown",
      "source": [
        "#What are the most active drinker ? \n",
        "the most active means the people who make the most elevated number of reviews"
      ],
      "metadata": {
        "id": "HmReiR6UrtXq"
      }
    },
    {
      "cell_type": "code",
      "source": [
        "drinker = data.groupBy(\"review_profilename\").count().orderBy(col(\"review_profilename\"))\n",
        "data2 = drinker.sort(col(\"count\").desc())\n",
        "display_data = data2.limit(5)\n",
        "display_data.show()"
      ],
      "metadata": {
        "colab": {
          "base_uri": "https://localhost:8080/"
        },
        "id": "eeQH1ckdsyel",
        "outputId": "67c01728-d64f-4cc9-a527-be7ecb51edbf"
      },
      "execution_count": null,
      "outputs": [
        {
          "output_type": "stream",
          "name": "stdout",
          "text": [
            "+------------------+-----+\n",
            "|review_profilename|count|\n",
            "+------------------+-----+\n",
            "|    northyorksammy| 5817|\n",
            "|     BuckeyeNation| 4661|\n",
            "|       mikesgroove| 4617|\n",
            "|         Thorpe429| 3518|\n",
            "|     womencantsail| 3497|\n",
            "+------------------+-----+\n",
            "\n"
          ]
        }
      ]
    },
    {
      "cell_type": "code",
      "source": [
        "pd_dataframe = display_data.toPandas()\n",
        "pd_dataframe.plot.barh(x='review_profilename', y='count')  "
      ],
      "metadata": {
        "colab": {
          "base_uri": "https://localhost:8080/",
          "height": 290
        },
        "id": "Pm2i23het6KA",
        "outputId": "2d9010fb-87c4-47d9-a7b8-130e315f5636"
      },
      "execution_count": null,
      "outputs": [
        {
          "output_type": "execute_result",
          "data": {
            "text/plain": [
              "<matplotlib.axes._subplots.AxesSubplot at 0x7fa4f272f190>"
            ]
          },
          "metadata": {},
          "execution_count": 15
        },
        {
          "output_type": "display_data",
          "data": {
            "text/plain": [
              "<Figure size 432x288 with 1 Axes>"
            ],
            "image/png": "[encoded data removed]"
          },
          "metadata": {}
        }
      ]
    },
    {
      "cell_type": "markdown",
      "source": [
        "# What are the stronghest beers (ABV) ? \n",
        "I'm plotting the bargraph about the most strongest beers.\n",
        "\n",
        "ABV measure the alcool contained in a specific beer.\n"
      ],
      "metadata": {
        "id": "abEC1tCX5hz_"
      }
    },
    {
      "cell_type": "code",
      "source": [
        "reviews = data.toPandas()"
      ],
      "metadata": {
        "id": "LOHEKW0Y7KC1"
      },
      "execution_count": null,
      "outputs": []
    },
    {
      "cell_type": "code",
      "source": [
        "\n",
        "import plotly.graph_objs as go\n",
        "import plotly as py"
      ],
      "metadata": {
        "id": "D750RxXV6HO4"
      },
      "execution_count": null,
      "outputs": []
    },
    {
      "cell_type": "code",
      "source": [
        "top_10_abv = reviews[['beer_name','brewery_name','beer_abv']].sort_values('beer_abv', ascending=False).drop_duplicates('beer_name').head(10).sort_values('beer_abv', ascending=True)"
      ],
      "metadata": {
        "id": "7QgPLrG69g1x"
      },
      "execution_count": null,
      "outputs": []
    },
    {
      "cell_type": "code",
      "source": [
        "p = [go.Bar(x = top_10_abv['beer_abv'] ,\n",
        "            y = top_10_abv['beer_name'],\n",
        "            hoverinfo = 'x',\n",
        "            text=top_10_abv['beer_name'],\n",
        "            textposition = 'inside',\n",
        "            orientation = 'h',\n",
        "            opacity=0.7, \n",
        "            marker=dict(\n",
        "                color='rgb(1, 87, 155)'))]\n",
        "\n",
        "\n",
        "layout = go.Layout(title='Top 10 Strongest Beers by ABV',\n",
        "                   xaxis=dict(title=\"ABV\",\n",
        "                              tickformat = \"\",\n",
        "                              hoverformat = ''),\n",
        "                   margin = dict(l = 220),\n",
        "                   font=dict(family='Courier New, monospace',\n",
        "                            color='dark gray'))\n",
        "\n",
        "fig = go.Figure(data=p, layout=layout)\n",
        "py.offline.iplot(fig)"
      ],
      "metadata": {
        "colab": {
          "base_uri": "https://localhost:8080/",
          "height": 542
        },
        "id": "fpbUCPji9awa",
        "outputId": "604ec0ed-909d-4d03-a8ed-56ff2a858c44"
      },
      "execution_count": null,
      "outputs": [
        {
          "output_type": "display_data",
          "data": {
            "text/html": [
              "<html>\n",
              "<head><meta charset=\"utf-8\" /></head>\n",
              "<body>\n",
              "    <div>            <script src=\"https://cdnjs.cloudflare.com/ajax/libs/mathjax/2.7.5/MathJax.js?config=TeX-AMS-MML_SVG\"></script><script type=\"text/javascript\">if (window.MathJax) {MathJax.Hub.Config({SVG: {font: \"STIX-Web\"}});}</script>                <script type=\"text/javascript\">window.PlotlyConfig = {MathJaxConfig: 'local'};</script>\n",
              "        <script src=\"https://cdn.plot.ly/plotly-2.8.3.min.js\"></script>                <div id=\"730eb942-7008-417e-a04c-a012618b08ff\" class=\"plotly-graph-div\" style=\"height:525px; width:100%;\"></div>            <script type=\"text/javascript\">                                    window.PLOTLYENV=window.PLOTLYENV || {};                                    if (document.getElementById(\"730eb942-7008-417e-a04c-a012618b08ff\")) {                    Plotly.newPlot(                        \"730eb942-7008-417e-a04c-a012618b08ff\",                        [{\"hoverinfo\":\"x\",\"marker\":{\"color\":\"rgb(1, 87, 155)\"},\"opacity\":0.7,\"orientation\":\"h\",\"text\":[\"Samuel Adams Utopias\",\"Ghost Deer\",\"Dave\",\"Schorschbr\\u00e4u Schorschbock 31%\",\"Tactical Nuclear Penguin\",\"Black Damnation VI - Messy\",\"Schorschbr\\u00e4u Schorschbock 40%\",\"Sink The Bismarck!\",\"Schorschbr\\u00e4u Schorschbock 43%\",\"Schorschbr\\u00e4u Schorschbock 57%\"],\"textposition\":\"inside\",\"x\":[27.0,28.0,29.0,30.86,32.0,39.0,39.44,41.0,43.0,57.7],\"y\":[\"Samuel Adams Utopias\",\"Ghost Deer\",\"Dave\",\"Schorschbr\\u00e4u Schorschbock 31%\",\"Tactical Nuclear Penguin\",\"Black Damnation VI - Messy\",\"Schorschbr\\u00e4u Schorschbock 40%\",\"Sink The Bismarck!\",\"Schorschbr\\u00e4u Schorschbock 43%\",\"Schorschbr\\u00e4u Schorschbock 57%\"],\"type\":\"bar\"}],                        {\"font\":{\"color\":\"dark gray\",\"family\":\"Courier New, monospace\"},\"margin\":{\"l\":220},\"template\":{\"data\":{\"barpolar\":[{\"marker\":{\"line\":{\"color\":\"#E5ECF6\",\"width\":0.5},\"pattern\":{\"fillmode\":\"overlay\",\"size\":10,\"solidity\":0.2}},\"type\":\"barpolar\"}],\"bar\":[{\"error_x\":{\"color\":\"#2a3f5f\"},\"error_y\":{\"color\":\"#2a3f5f\"},\"marker\":{\"line\":{\"color\":\"#E5ECF6\",\"width\":0.5},\"pattern\":{\"fillmode\":\"overlay\",\"size\":10,\"solidity\":0.2}},\"type\":\"bar\"}],\"carpet\":[{\"aaxis\":{\"endlinecolor\":\"#2a3f5f\",\"gridcolor\":\"white\",\"linecolor\":\"white\",\"minorgridcolor\":\"white\",\"startlinecolor\":\"#2a3f5f\"},\"baxis\":{\"endlinecolor\":\"#2a3f5f\",\"gridcolor\":\"white\",\"linecolor\":\"white\",\"minorgridcolor\":\"white\",\"startlinecolor\":\"#2a3f5f\"},\"type\":\"carpet\"}],\"choropleth\":[{\"colorbar\":{\"outlinewidth\":0,\"ticks\":\"\"},\"type\":\"choropleth\"}],\"contourcarpet\":[{\"colorbar\":{\"outlinewidth\":0,\"ticks\":\"\"},\"type\":\"contourcarpet\"}],\"contour\":[{\"colorbar\":{\"outlinewidth\":0,\"ticks\":\"\"},\"colorscale\":[[0.0,\"#0d0887\"],[0.1111111111111111,\"#46039f\"],[0.2222222222222222,\"#7201a8\"],[0.3333333333333333,\"#9c179e\"],[0.4444444444444444,\"#bd3786\"],[0.5555555555555556,\"#d8576b\"],[0.6666666666666666,\"#ed7953\"],[0.7777777777777778,\"#fb9f3a\"],[0.8888888888888888,\"#fdca26\"],[1.0,\"#f0f921\"]],\"type\":\"contour\"}],\"heatmapgl\":[{\"colorbar\":{\"outlinewidth\":0,\"ticks\":\"\"},\"colorscale\":[[0.0,\"#0d0887\"],[0.1111111111111111,\"#46039f\"],[0.2222222222222222,\"#7201a8\"],[0.3333333333333333,\"#9c179e\"],[0.4444444444444444,\"#bd3786\"],[0.5555555555555556,\"#d8576b\"],[0.6666666666666666,\"#ed7953\"],[0.7777777777777778,\"#fb9f3a\"],[0.8888888888888888,\"#fdca26\"],[1.0,\"#f0f921\"]],\"type\":\"heatmapgl\"}],\"heatmap\":[{\"colorbar\":{\"outlinewidth\":0,\"ticks\":\"\"},\"colorscale\":[[0.0,\"#0d0887\"],[0.1111111111111111,\"#46039f\"],[0.2222222222222222,\"#7201a8\"],[0.3333333333333333,\"#9c179e\"],[0.4444444444444444,\"#bd3786\"],[0.5555555555555556,\"#d8576b\"],[0.6666666666666666,\"#ed7953\"],[0.7777777777777778,\"#fb9f3a\"],[0.8888888888888888,\"#fdca26\"],[1.0,\"#f0f921\"]],\"type\":\"heatmap\"}],\"histogram2dcontour\":[{\"colorbar\":{\"outlinewidth\":0,\"ticks\":\"\"},\"colorscale\":[[0.0,\"#0d0887\"],[0.1111111111111111,\"#46039f\"],[0.2222222222222222,\"#7201a8\"],[0.3333333333333333,\"#9c179e\"],[0.4444444444444444,\"#bd3786\"],[0.5555555555555556,\"#d8576b\"],[0.6666666666666666,\"#ed7953\"],[0.7777777777777778,\"#fb9f3a\"],[0.8888888888888888,\"#fdca26\"],[1.0,\"#f0f921\"]],\"type\":\"histogram2dcontour\"}],\"histogram2d\":[{\"colorbar\":{\"outlinewidth\":0,\"ticks\":\"\"},\"colorscale\":[[0.0,\"#0d0887\"],[0.1111111111111111,\"#46039f\"],[0.2222222222222222,\"#7201a8\"],[0.3333333333333333,\"#9c179e\"],[0.4444444444444444,\"#bd3786\"],[0.5555555555555556,\"#d8576b\"],[0.6666666666666666,\"#ed7953\"],[0.7777777777777778,\"#fb9f3a\"],[0.8888888888888888,\"#fdca26\"],[1.0,\"#f0f921\"]],\"type\":\"histogram2d\"}],\"histogram\":[{\"marker\":{\"pattern\":{\"fillmode\":\"overlay\",\"size\":10,\"solidity\":0.2}},\"type\":\"histogram\"}],\"mesh3d\":[{\"colorbar\":{\"outlinewidth\":0,\"ticks\":\"\"},\"type\":\"mesh3d\"}],\"parcoords\":[{\"line\":{\"colorbar\":{\"outlinewidth\":0,\"ticks\":\"\"}},\"type\":\"parcoords\"}],\"pie\":[{\"automargin\":true,\"type\":\"pie\"}],\"scatter3d\":[{\"line\":{\"colorbar\":{\"outlinewidth\":0,\"ticks\":\"\"}},\"marker\":{\"colorbar\":{\"outlinewidth\":0,\"ticks\":\"\"}},\"type\":\"scatter3d\"}],\"scattercarpet\":[{\"marker\":{\"colorbar\":{\"outlinewidth\":0,\"ticks\":\"\"}},\"type\":\"scattercarpet\"}],\"scattergeo\":[{\"marker\":{\"colorbar\":{\"outlinewidth\":0,\"ticks\":\"\"}},\"type\":\"scattergeo\"}],\"scattergl\":[{\"marker\":{\"colorbar\":{\"outlinewidth\":0,\"ticks\":\"\"}},\"type\":\"scattergl\"}],\"scattermapbox\":[{\"marker\":{\"colorbar\":{\"outlinewidth\":0,\"ticks\":\"\"}},\"type\":\"scattermapbox\"}],\"scatterpolargl\":[{\"marker\":{\"colorbar\":{\"outlinewidth\":0,\"ticks\":\"\"}},\"type\":\"scatterpolargl\"}],\"scatterpolar\":[{\"marker\":{\"colorbar\":{\"outlinewidth\":0,\"ticks\":\"\"}},\"type\":\"scatterpolar\"}],\"scatter\":[{\"marker\":{\"colorbar\":{\"outlinewidth\":0,\"ticks\":\"\"}},\"type\":\"scatter\"}],\"scatterternary\":[{\"marker\":{\"colorbar\":{\"outlinewidth\":0,\"ticks\":\"\"}},\"type\":\"scatterternary\"}],\"surface\":[{\"colorbar\":{\"outlinewidth\":0,\"ticks\":\"\"},\"colorscale\":[[0.0,\"#0d0887\"],[0.1111111111111111,\"#46039f\"],[0.2222222222222222,\"#7201a8\"],[0.3333333333333333,\"#9c179e\"],[0.4444444444444444,\"#bd3786\"],[0.5555555555555556,\"#d8576b\"],[0.6666666666666666,\"#ed7953\"],[0.7777777777777778,\"#fb9f3a\"],[0.8888888888888888,\"#fdca26\"],[1.0,\"#f0f921\"]],\"type\":\"surface\"}],\"table\":[{\"cells\":{\"fill\":{\"color\":\"#EBF0F8\"},\"line\":{\"color\":\"white\"}},\"header\":{\"fill\":{\"color\":\"#C8D4E3\"},\"line\":{\"color\":\"white\"}},\"type\":\"table\"}]},\"layout\":{\"annotationdefaults\":{\"arrowcolor\":\"#2a3f5f\",\"arrowhead\":0,\"arrowwidth\":1},\"autotypenumbers\":\"strict\",\"coloraxis\":{\"colorbar\":{\"outlinewidth\":0,\"ticks\":\"\"}},\"colorscale\":{\"diverging\":[[0,\"#8e0152\"],[0.1,\"#c51b7d\"],[0.2,\"#de77ae\"],[0.3,\"#f1b6da\"],[0.4,\"#fde0ef\"],[0.5,\"#f7f7f7\"],[0.6,\"#e6f5d0\"],[0.7,\"#b8e186\"],[0.8,\"#7fbc41\"],[0.9,\"#4d9221\"],[1,\"#276419\"]],\"sequential\":[[0.0,\"#0d0887\"],[0.1111111111111111,\"#46039f\"],[0.2222222222222222,\"#7201a8\"],[0.3333333333333333,\"#9c179e\"],[0.4444444444444444,\"#bd3786\"],[0.5555555555555556,\"#d8576b\"],[0.6666666666666666,\"#ed7953\"],[0.7777777777777778,\"#fb9f3a\"],[0.8888888888888888,\"#fdca26\"],[1.0,\"#f0f921\"]],\"sequentialminus\":[[0.0,\"#0d0887\"],[0.1111111111111111,\"#46039f\"],[0.2222222222222222,\"#7201a8\"],[0.3333333333333333,\"#9c179e\"],[0.4444444444444444,\"#bd3786\"],[0.5555555555555556,\"#d8576b\"],[0.6666666666666666,\"#ed7953\"],[0.7777777777777778,\"#fb9f3a\"],[0.8888888888888888,\"#fdca26\"],[1.0,\"#f0f921\"]]},\"colorway\":[\"#636efa\",\"#EF553B\",\"#00cc96\",\"#ab63fa\",\"#FFA15A\",\"#19d3f3\",\"#FF6692\",\"#B6E880\",\"#FF97FF\",\"#FECB52\"],\"font\":{\"color\":\"#2a3f5f\"},\"geo\":{\"bgcolor\":\"white\",\"lakecolor\":\"white\",\"landcolor\":\"#E5ECF6\",\"showlakes\":true,\"showland\":true,\"subunitcolor\":\"white\"},\"hoverlabel\":{\"align\":\"left\"},\"hovermode\":\"closest\",\"mapbox\":{\"style\":\"light\"},\"paper_bgcolor\":\"white\",\"plot_bgcolor\":\"#E5ECF6\",\"polar\":{\"angularaxis\":{\"gridcolor\":\"white\",\"linecolor\":\"white\",\"ticks\":\"\"},\"bgcolor\":\"#E5ECF6\",\"radialaxis\":{\"gridcolor\":\"white\",\"linecolor\":\"white\",\"ticks\":\"\"}},\"scene\":{\"xaxis\":{\"backgroundcolor\":\"#E5ECF6\",\"gridcolor\":\"white\",\"gridwidth\":2,\"linecolor\":\"white\",\"showbackground\":true,\"ticks\":\"\",\"zerolinecolor\":\"white\"},\"yaxis\":{\"backgroundcolor\":\"#E5ECF6\",\"gridcolor\":\"white\",\"gridwidth\":2,\"linecolor\":\"white\",\"showbackground\":true,\"ticks\":\"\",\"zerolinecolor\":\"white\"},\"zaxis\":{\"backgroundcolor\":\"#E5ECF6\",\"gridcolor\":\"white\",\"gridwidth\":2,\"linecolor\":\"white\",\"showbackground\":true,\"ticks\":\"\",\"zerolinecolor\":\"white\"}},\"shapedefaults\":{\"line\":{\"color\":\"#2a3f5f\"}},\"ternary\":{\"aaxis\":{\"gridcolor\":\"white\",\"linecolor\":\"white\",\"ticks\":\"\"},\"baxis\":{\"gridcolor\":\"white\",\"linecolor\":\"white\",\"ticks\":\"\"},\"bgcolor\":\"#E5ECF6\",\"caxis\":{\"gridcolor\":\"white\",\"linecolor\":\"white\",\"ticks\":\"\"}},\"title\":{\"x\":0.05},\"xaxis\":{\"automargin\":true,\"gridcolor\":\"white\",\"linecolor\":\"white\",\"ticks\":\"\",\"title\":{\"standoff\":15},\"zerolinecolor\":\"white\",\"zerolinewidth\":2},\"yaxis\":{\"automargin\":true,\"gridcolor\":\"white\",\"linecolor\":\"white\",\"ticks\":\"\",\"title\":{\"standoff\":15},\"zerolinecolor\":\"white\",\"zerolinewidth\":2}}},\"title\":{\"text\":\"Top 10 Strongest Beers by ABV\"},\"xaxis\":{\"hoverformat\":\"\",\"tickformat\":\"\",\"title\":{\"text\":\"ABV\"}}},                        {\"responsive\": true}                    ).then(function(){\n",
              "                            \n",
              "var gd = document.getElementById('730eb942-7008-417e-a04c-a012618b08ff');\n",
              "var x = new MutationObserver(function (mutations, observer) {{\n",
              "        var display = window.getComputedStyle(gd).display;\n",
              "        if (!display || display === 'none') {{\n",
              "            console.log([gd, 'removed!']);\n",
              "            Plotly.purge(gd);\n",
              "            observer.disconnect();\n",
              "        }}\n",
              "}});\n",
              "\n",
              "// Listen for the removal of the full notebook cells\n",
              "var notebookContainer = gd.closest('#notebook-container');\n",
              "if (notebookContainer) {{\n",
              "    x.observe(notebookContainer, {childList: true});\n",
              "}}\n",
              "\n",
              "// Listen for the clearing of the current output cell\n",
              "var outputEl = gd.closest('.output');\n",
              "if (outputEl) {{\n",
              "    x.observe(outputEl, {childList: true});\n",
              "}}\n",
              "\n",
              "                        })                };                            </script>        </div>\n",
              "</body>\n",
              "</html>"
            ]
          },
          "metadata": {}
        }
      ]
    },
    {
      "cell_type": "markdown",
      "source": [
        "\n"
      ],
      "metadata": {
        "id": "8PWTjsY9H0PC"
      }
    },
    {
      "cell_type": "markdown",
      "source": [
        "##A little overview of numeric features "
      ],
      "metadata": {
        "id": "h7Oz4QHc-u4Z"
      }
    },
    {
      "cell_type": "code",
      "source": [
        "reviews.hist(figsize=(12,12))\n",
        "plt.show()"
      ],
      "metadata": {
        "colab": {
          "base_uri": "https://localhost:8080/",
          "height": 728
        },
        "id": "1f_mOCcF-n2Y",
        "outputId": "64c89f90-e95f-42dc-ed49-2afaf7bd8bab"
      },
      "execution_count": null,
      "outputs": [
        {
          "output_type": "display_data",
          "data": {
            "text/plain": [
              "<Figure size 864x864 with 9 Axes>"
            ],
            "image/png": "[encoded data removed]"
          },
          "metadata": {}
        }
      ]
    },
    {
      "cell_type": "markdown",
      "source": [
        "\n",
        "\n",
        "# Which of the factors (aroma, taste, appearance, palette) are most important in determining the overall quality of a beer?\n",
        "\n",
        "\n",
        "I have to analise the 4 different reviews and it's correlations with correlation matrix and its respective plot\n",
        "A correlation matrix is simply a table which displays the correlation coefficients for different variables. The matrix depicts the correlation between all the possible pairs of values in a table. It is a powerful tool to summarize a large dataset and to identify and visualize patterns in the given data.\n"
      ],
      "metadata": {
        "id": "Et975XZ3H_5Z"
      }
    },
    {
      "cell_type": "markdown",
      "source": [
        ""
      ],
      "metadata": {
        "id": "VYioLmmnJbBH"
      }
    },
    {
      "cell_type": "code",
      "source": [
        "cmatrix = data.toPandas()"
      ],
      "metadata": {
        "id": "EF-3uWdlIEnn"
      },
      "execution_count": null,
      "outputs": []
    },
    {
      "cell_type": "code",
      "source": [
        "factors = [\"review_appearance\",\"review_aroma\",\"review_palate\",\"review_taste\", \"review_overall\"]\n",
        "corr_metrics = cmatrix[factors].corr()\n",
        "#corr_metrics.style.background_gradient(cmap='Blues')\n",
        "corr_metrics\n",
        "corr_metrics.style.background_gradient(cmap='Oranges')"
      ],
      "metadata": {
        "colab": {
          "base_uri": "https://localhost:8080/",
          "height": 206
        },
        "id": "qD7Wwt2kK4uT",
        "outputId": "ebc749c0-ba38-440c-ffd3-743aa83fcc91"
      },
      "execution_count": null,
      "outputs": [
        {
          "output_type": "execute_result",
          "data": {
            "text/plain": [
              "<pandas.io.formats.style.Styler at 0x7fa4f8257110>"
            ],
            "text/html": [
              "<style type=\"text/css\">\n",
              "#T_e5445_row0_col0, #T_e5445_row1_col1, #T_e5445_row2_col2, #T_e5445_row3_col3, #T_e5445_row4_col4 {\n",
              "  background-color: #7f2704;\n",
              "  color: #f1f1f1;\n",
              "}\n",
              "#T_e5445_row0_col1, #T_e5445_row0_col2, #T_e5445_row0_col3, #T_e5445_row0_col4, #T_e5445_row4_col0 {\n",
              "  background-color: #fff5eb;\n",
              "  color: #000000;\n",
              "}\n",
              "#T_e5445_row1_col0 {\n",
              "  background-color: #fee7d0;\n",
              "  color: #000000;\n",
              "}\n",
              "#T_e5445_row1_col2 {\n",
              "  background-color: #fee7d1;\n",
              "  color: #000000;\n",
              "}\n",
              "#T_e5445_row1_col3 {\n",
              "  background-color: #fdaf6c;\n",
              "  color: #000000;\n",
              "}\n",
              "#T_e5445_row1_col4 {\n",
              "  background-color: #fdd4aa;\n",
              "  color: #000000;\n",
              "}\n",
              "#T_e5445_row2_col0 {\n",
              "  background-color: #fee5cc;\n",
              "  color: #000000;\n",
              "}\n",
              "#T_e5445_row2_col1, #T_e5445_row4_col1 {\n",
              "  background-color: #fee6ce;\n",
              "  color: #000000;\n",
              "}\n",
              "#T_e5445_row2_col3 {\n",
              "  background-color: #fda45d;\n",
              "  color: #000000;\n",
              "}\n",
              "#T_e5445_row2_col4 {\n",
              "  background-color: #fda762;\n",
              "  color: #000000;\n",
              "}\n",
              "#T_e5445_row3_col0 {\n",
              "  background-color: #feead6;\n",
              "  color: #000000;\n",
              "}\n",
              "#T_e5445_row3_col1 {\n",
              "  background-color: #fdb475;\n",
              "  color: #000000;\n",
              "}\n",
              "#T_e5445_row3_col2 {\n",
              "  background-color: #fdac67;\n",
              "  color: #000000;\n",
              "}\n",
              "#T_e5445_row3_col4 {\n",
              "  background-color: #f57622;\n",
              "  color: #f1f1f1;\n",
              "}\n",
              "#T_e5445_row4_col2 {\n",
              "  background-color: #fdc088;\n",
              "  color: #000000;\n",
              "}\n",
              "#T_e5445_row4_col3 {\n",
              "  background-color: #f98230;\n",
              "  color: #f1f1f1;\n",
              "}\n",
              "</style>\n",
              "<table id=\"T_e5445_\" class=\"dataframe\">\n",
              "  <thead>\n",
              "    <tr>\n",
              "      <th class=\"blank level0\" >&nbsp;</th>\n",
              "      <th class=\"col_heading level0 col0\" >review_appearance</th>\n",
              "      <th class=\"col_heading level0 col1\" >review_aroma</th>\n",
              "      <th class=\"col_heading level0 col2\" >review_palate</th>\n",
              "      <th class=\"col_heading level0 col3\" >review_taste</th>\n",
              "      <th class=\"col_heading level0 col4\" >review_overall</th>\n",
              "    </tr>\n",
              "  </thead>\n",
              "  <tbody>\n",
              "    <tr>\n",
              "      <th id=\"T_e5445_level0_row0\" class=\"row_heading level0 row0\" >review_appearance</th>\n",
              "      <td id=\"T_e5445_row0_col0\" class=\"data row0 col0\" >1.000000</td>\n",
              "      <td id=\"T_e5445_row0_col1\" class=\"data row0 col1\" >0.561029</td>\n",
              "      <td id=\"T_e5445_row0_col2\" class=\"data row0 col2\" >0.566634</td>\n",
              "      <td id=\"T_e5445_row0_col3\" class=\"data row0 col3\" >0.546980</td>\n",
              "      <td id=\"T_e5445_row0_col4\" class=\"data row0 col4\" >0.501732</td>\n",
              "    </tr>\n",
              "    <tr>\n",
              "      <th id=\"T_e5445_level0_row1\" class=\"row_heading level0 row1\" >review_aroma</th>\n",
              "      <td id=\"T_e5445_row1_col0\" class=\"data row1 col0\" >0.561029</td>\n",
              "      <td id=\"T_e5445_row1_col1\" class=\"data row1 col1\" >1.000000</td>\n",
              "      <td id=\"T_e5445_row1_col2\" class=\"data row1 col2\" >0.616947</td>\n",
              "      <td id=\"T_e5445_row1_col3\" class=\"data row1 col3\" >0.716776</td>\n",
              "      <td id=\"T_e5445_row1_col4\" class=\"data row1 col4\" >0.616013</td>\n",
              "    </tr>\n",
              "    <tr>\n",
              "      <th id=\"T_e5445_level0_row2\" class=\"row_heading level0 row2\" >review_palate</th>\n",
              "      <td id=\"T_e5445_row2_col0\" class=\"data row2 col0\" >0.566634</td>\n",
              "      <td id=\"T_e5445_row2_col1\" class=\"data row2 col1\" >0.616947</td>\n",
              "      <td id=\"T_e5445_row2_col2\" class=\"data row2 col2\" >1.000000</td>\n",
              "      <td id=\"T_e5445_row2_col3\" class=\"data row2 col3\" >0.734135</td>\n",
              "      <td id=\"T_e5445_row2_col4\" class=\"data row2 col4\" >0.701914</td>\n",
              "    </tr>\n",
              "    <tr>\n",
              "      <th id=\"T_e5445_level0_row3\" class=\"row_heading level0 row3\" >review_taste</th>\n",
              "      <td id=\"T_e5445_row3_col0\" class=\"data row3 col0\" >0.546980</td>\n",
              "      <td id=\"T_e5445_row3_col1\" class=\"data row3 col1\" >0.716776</td>\n",
              "      <td id=\"T_e5445_row3_col2\" class=\"data row3 col2\" >0.734135</td>\n",
              "      <td id=\"T_e5445_row3_col3\" class=\"data row3 col3\" >1.000000</td>\n",
              "      <td id=\"T_e5445_row3_col4\" class=\"data row3 col4\" >0.789816</td>\n",
              "    </tr>\n",
              "    <tr>\n",
              "      <th id=\"T_e5445_level0_row4\" class=\"row_heading level0 row4\" >review_overall</th>\n",
              "      <td id=\"T_e5445_row4_col0\" class=\"data row4 col0\" >0.501732</td>\n",
              "      <td id=\"T_e5445_row4_col1\" class=\"data row4 col1\" >0.616013</td>\n",
              "      <td id=\"T_e5445_row4_col2\" class=\"data row4 col2\" >0.701914</td>\n",
              "      <td id=\"T_e5445_row4_col3\" class=\"data row4 col3\" >0.789816</td>\n",
              "      <td id=\"T_e5445_row4_col4\" class=\"data row4 col4\" >1.000000</td>\n",
              "    </tr>\n",
              "  </tbody>\n",
              "</table>\n"
            ]
          },
          "metadata": {},
          "execution_count": 22
        }
      ]
    },
    {
      "cell_type": "code",
      "source": [
        "correlation = cmatrix[\"review_overall\"].corr(cmatrix[\"review_palate\"])\n",
        "print(\"review_palate\",correlation )\n",
        "\n",
        "correlation1 = cmatrix[\"review_overall\"].corr(cmatrix[\"review_aroma\"])\n",
        "print(\"review_aroma\",correlation1 )\n",
        "\n",
        "correlation2 = cmatrix[\"review_overall\"].corr(cmatrix[\"review_taste\"])\n",
        "print(\"review_taste\",correlation2 )\n",
        "\n",
        "correlation3 = cmatrix[\"review_overall\"].corr(cmatrix[\"review_appearance\"])\n",
        "print(\"review_appearance\",correlation3 )\n"
      ],
      "metadata": {
        "colab": {
          "base_uri": "https://localhost:8080/"
        },
        "id": "Z7hFt25TLsi_",
        "outputId": "f9802c6b-433f-4e36-f555-c433d3fd0357"
      },
      "execution_count": null,
      "outputs": [
        {
          "output_type": "stream",
          "name": "stdout",
          "text": [
            "review_palate 0.701913935876308\n",
            "review_aroma 0.6160131181957844\n",
            "review_taste 0.7898156397730296\n",
            "review_appearance 0.5017324025451658\n"
          ]
        }
      ]
    },
    {
      "cell_type": "markdown",
      "source": [
        "So the most correlated values is \"taste\" with (0.789)\n",
        "\n",
        "As I supposed taste is the most important factors in the chooice of a beer"
      ],
      "metadata": {
        "id": "6rkzZvswMtQ4"
      }
    },
    {
      "cell_type": "markdown",
      "source": [
        "# Preprocessing"
      ],
      "metadata": {
        "id": "_J5mJVOE8Mkn"
      }
    },
    {
      "cell_type": "markdown",
      "source": [
        "## Duplicate Analisis \n",
        "* Percentage of duplicates \n",
        "* dropping rows duplicated\n"
      ],
      "metadata": {
        "id": "hzbMQpJJVsOY"
      }
    },
    {
      "cell_type": "code",
      "source": [
        "data.show()"
      ],
      "metadata": {
        "id": "leMuXenuWYVw",
        "colab": {
          "base_uri": "https://localhost:8080/"
        },
        "outputId": "c3071868-bacf-43a8-8421-d02decf99713"
      },
      "execution_count": null,
      "outputs": [
        {
          "output_type": "stream",
          "name": "stdout",
          "text": [
            "+----------+--------------------+-----------+--------------+------------+-----------------+------------------+--------------------+-------------+------------+--------------------+--------+-----------+\n",
            "|brewery_id|        brewery_name|review_time|review_overall|review_aroma|review_appearance|review_profilename|          beer_style|review_palate|review_taste|           beer_name|beer_abv|beer_beerid|\n",
            "+----------+--------------------+-----------+--------------+------------+-----------------+------------------+--------------------+-------------+------------+--------------------+--------+-----------+\n",
            "|     10325|     Vecchio Birraio| 1234817823|           1.5|         2.0|              2.5|           stcules|          Hefeweizen|          1.5|         1.5|        Sausa Weizen|     5.0|      47986|\n",
            "|     10325|     Vecchio Birraio| 1235915097|           3.0|         2.5|              3.0|           stcules|  English Strong Ale|          3.0|         3.0|            Red Moon|     6.2|      48213|\n",
            "|     10325|     Vecchio Birraio| 1235916604|           3.0|         2.5|              3.0|           stcules|Foreign / Export ...|          3.0|         3.0|Black Horse Black...|     6.5|      48215|\n",
            "|     10325|     Vecchio Birraio| 1234725145|           3.0|         3.0|              3.5|           stcules|     German Pilsener|          2.5|         3.0|          Sausa Pils|     5.0|      47969|\n",
            "|      1075|Caldera Brewing C...| 1293735206|           4.0|         4.5|              4.0|    johnmichaelsen|American Double /...|          4.0|         4.5|       Cauldron DIPA|     7.7|      64883|\n",
            "|      1075|Caldera Brewing C...| 1325524659|           3.0|         3.5|              3.5|           oline73|Herbed / Spiced Beer|          3.0|         3.5| Caldera Ginger Beer|     4.7|      52159|\n",
            "|      1075|Caldera Brewing C...| 1318991115|           3.5|         3.5|              3.5|         Reidrover|Herbed / Spiced Beer|          4.0|         4.0| Caldera Ginger Beer|     4.7|      52159|\n",
            "|      1075|Caldera Brewing C...| 1306276018|           3.0|         2.5|              3.5|      alpinebryant|Herbed / Spiced Beer|          2.0|         3.5| Caldera Ginger Beer|     4.7|      52159|\n",
            "|      1075|Caldera Brewing C...| 1290454503|           4.0|         3.0|              3.5|     LordAdmNelson|Herbed / Spiced Beer|          3.5|         4.0| Caldera Ginger Beer|     4.7|      52159|\n",
            "|      1075|Caldera Brewing C...| 1285632924|           4.5|         3.5|              5.0|      augustgarage|Herbed / Spiced Beer|          4.0|         4.0| Caldera Ginger Beer|     4.7|      52159|\n",
            "|       163|Amstel Brouwerij ...| 1010963392|           3.0|         2.0|              3.0|           fodeeoz|         Light Lager|          2.5|         2.5|        Amstel Light|     3.5|        436|\n",
            "|      1075|Caldera Brewing C...| 1283154365|           5.0|         5.0|              4.0|      MadeInOregon|Herbed / Spiced Beer|          4.0|         4.0| Caldera Ginger Beer|     4.7|      52159|\n",
            "|      1075|Caldera Brewing C...| 1277557990|           4.0|         4.0|              4.0|           rawthar|Herbed / Spiced Beer|          3.5|         4.0| Caldera Ginger Beer|     4.7|      52159|\n",
            "|      1075|Caldera Brewing C...| 1275779250|           4.0|         4.5|              3.0|       Halcyondays|Herbed / Spiced Beer|          2.5|         3.0| Caldera Ginger Beer|     4.7|      52159|\n",
            "|      1075|Caldera Brewing C...| 1273109020|           3.5|         4.0|              3.0|       RangerClegg|Herbed / Spiced Beer|          3.0|         4.0| Caldera Ginger Beer|     4.7|      52159|\n",
            "|      1075|Caldera Brewing C...| 1316025612|           3.0|         3.0|              2.5|  Beerandraiderfan|       Oatmeal Stout|          3.0|         3.0|Caldera Oatmeal S...|     7.2|      10789|\n",
            "|      1075|Caldera Brewing C...| 1103502339|           2.0|         1.5|              2.5|        RedDiamond|       Oatmeal Stout|          2.5|         2.0|Caldera Oatmeal S...|     7.2|      10789|\n",
            "|      1075|Caldera Brewing C...| 1062311123|           4.0|         3.0|              4.0|        beerguy101| American Pale Lager|          4.0|         4.0|      Caldera OBF 15|     5.6|      12386|\n",
            "|       163|Amstel Brouwerij ...| 1010861086|           2.5|         3.0|              3.0|            jdhilt|         Light Lager|          2.0|         2.0|        Amstel Light|     3.5|        436|\n",
            "|      1075|Caldera Brewing C...| 1325478004|           4.5|         4.5|              3.0|       UCLABrewN84|           Rauchbier|          4.0|         4.5|       Rauch Ür Bock|     7.4|      58046|\n",
            "+----------+--------------------+-----------+--------------+------------+-----------------+------------------+--------------------+-------------+------------+--------------------+--------+-----------+\n",
            "only showing top 20 rows\n",
            "\n"
          ]
        }
      ]
    },
    {
      "cell_type": "code",
      "source": [
        "dropDisDF = data.dropDuplicates([\"review_profilename\",\"beer_beerid\"])\n",
        "print(\"Distinct count of users who rates a beer  : \"+str(dropDisDF.count()))\n"
      ],
      "metadata": {
        "colab": {
          "base_uri": "https://localhost:8080/"
        },
        "id": "cKU8qut6Vq1L",
        "outputId": "970aff2b-edb4-4002-f21a-74c3c6dd359c"
      },
      "execution_count": null,
      "outputs": [
        {
          "output_type": "stream",
          "name": "stdout",
          "text": [
            "Distinct count of users who rates a beer  : 1571808\n"
          ]
        }
      ]
    },
    {
      "cell_type": "code",
      "source": [
        "print( \"percentage of duplicated is equal to \" + str(((data.count()-dropDisDF.count())/data.count())))"
      ],
      "metadata": {
        "colab": {
          "base_uri": "https://localhost:8080/"
        },
        "id": "v5d1-DJjX5u3",
        "outputId": "c46442bc-633d-4845-d217-b159549368cd"
      },
      "execution_count": null,
      "outputs": [
        {
          "output_type": "stream",
          "name": "stdout",
          "text": [
            "percentage of duplicated is equal to 0.009331822358809388\n"
          ]
        }
      ]
    },
    {
      "cell_type": "markdown",
      "source": [
        "##Percentage of  Null Values "
      ],
      "metadata": {
        "id": "CJt3oyfHYhWC"
      }
    },
    {
      "cell_type": "code",
      "source": [
        "print(data.select([count(when(isnan(c) | col(c).isNull(), c)).alias(c) for c in data.columns]).show())"
      ],
      "metadata": {
        "colab": {
          "base_uri": "https://localhost:8080/"
        },
        "id": "qwAVy0rGkXLH",
        "outputId": "61eee830-4b08-422d-dc56-337aa050f1b4"
      },
      "execution_count": null,
      "outputs": [
        {
          "output_type": "stream",
          "name": "stdout",
          "text": [
            "+----------+------------+-----------+--------------+------------+-----------------+------------------+----------+-------------+------------+---------+--------+-----------+\n",
            "|brewery_id|brewery_name|review_time|review_overall|review_aroma|review_appearance|review_profilename|beer_style|review_palate|review_taste|beer_name|beer_abv|beer_beerid|\n",
            "+----------+------------+-----------+--------------+------------+-----------------+------------------+----------+-------------+------------+---------+--------+-----------+\n",
            "|         0|          15|          0|             0|           0|                0|               348|         0|            0|           0|        0|   67785|          0|\n",
            "+----------+------------+-----------+--------------+------------+-----------------+------------------+----------+-------------+------------+---------+--------+-----------+\n",
            "\n",
            "None\n"
          ]
        }
      ]
    },
    {
      "cell_type": "code",
      "source": [
        "data_na = data.na.drop()"
      ],
      "metadata": {
        "id": "Bz9bJaP9aBqX"
      },
      "execution_count": null,
      "outputs": []
    },
    {
      "cell_type": "markdown",
      "source": [
        "Percentage of null rows in dataset "
      ],
      "metadata": {
        "id": "09OSkKSacP7B"
      }
    },
    {
      "cell_type": "code",
      "source": [
        "diff = data.count()- data_na.count() \n",
        "print (\"percentage of na values are : \" +str(float((diff/(data.count())))) +\"\"+\"%\")"
      ],
      "metadata": {
        "colab": {
          "base_uri": "https://localhost:8080/"
        },
        "id": "EU8zL8lrbF3d",
        "outputId": "7d451e47-2cc4-4bbc-cd3d-e06655a794bb"
      },
      "execution_count": null,
      "outputs": [
        {
          "output_type": "stream",
          "name": "stdout",
          "text": [
            "percentage of na values are : 0.042944282604338545%\n"
          ]
        }
      ]
    },
    {
      "cell_type": "code",
      "source": [
        ""
      ],
      "metadata": {
        "id": "KTjEifdMix0K"
      },
      "execution_count": null,
      "outputs": []
    },
    {
      "cell_type": "code",
      "source": [
        "numerator = data_na.select(\"review_overall\").count()\n",
        "\n",
        "# Count the number of distinct user_ids and distinct beer_ids\n",
        "num_users = data_na.select(\"review_profilename\").distinct().count()\n",
        "num_beers = data_na.select(\"beer_beerid\").distinct().count()\n",
        "\n",
        "# Set the denominator equal to the number of users multiplied by the number of beers\n",
        "denominator = num_users * num_beers\n",
        "\n",
        "# Divide the numerator by the denominator\n",
        "sparsity = (1.0 - (numerator *1.0)/denominator)*100\n",
        "print (\"The beer_tbl dataframe is\", \"%.2f\" % sparsity + \"% empty.\")"
      ],
      "metadata": {
        "id": "KoXtA_u2iuj7",
        "colab": {
          "base_uri": "https://localhost:8080/"
        },
        "outputId": "7e0f8332-568f-4775-a6c7-b5748871a42f"
      },
      "execution_count": null,
      "outputs": [
        {
          "output_type": "stream",
          "name": "stdout",
          "text": [
            "The beer_tbl dataframe is 99.91% empty.\n"
          ]
        }
      ]
    },
    {
      "cell_type": "markdown",
      "source": [
        "##Bibliography\n",
        "[Beer Reviews](https://www.kaggle.com/code/joonim/beer-reviews-asking-questions/notebook)"
      ],
      "metadata": {
        "id": "bZiBpa7vA9bF"
      }
    }
  ]
}