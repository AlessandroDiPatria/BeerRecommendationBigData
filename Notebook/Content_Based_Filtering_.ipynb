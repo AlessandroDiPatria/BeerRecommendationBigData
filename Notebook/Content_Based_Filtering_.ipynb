{
  "cells": [
    {
      "cell_type": "markdown",
      "metadata": {
        "id": "hOyrVcStczZm"
      },
      "source": [
        "# Content based Filtering\n",
        "In this approach I'll use some properties and the metadata of a particular item to suggest other items with similar characteristics.\n",
        "\n",
        "Content based filtering always provide existent item to make raccomandation contrary to collaborative filtering which is based to the attitudes of costumers.\n",
        "\n",
        "In this section I'll calculate pairwise cosine similarity scores for all beers  based on their Beer_style (that is a category) and Beer_ABV (alcholic grade) then recommend beers with the highest similarity scores to the user’s input.\n",
        "\n",
        "I'm also using Natural Language processing to understand and suggest similar movies to a user’s input. \n",
        "\n",
        "\n",
        "Firstly we recognize the most relevant features for a beer.\n",
        "\n",
        "Beer_style and Beer_ABV because for me are the most relevant feature.\n",
        "I'm going to merge them in unique column, vectorize this column and then compute cosine similarity.\n",
        "\n",
        "I have to vectorized the word merged throught Frequency-Inverse Document Frequency (TF-IDF) vectors. This give a matrix where each column represents a word in the description vocabulary and each row represents a Beer.\n",
        "\n",
        "## Cosine Similarity \n",
        "Cosine similarity is a mathematical computation that tells us the similarity between two vectors A and B. In effect, I'm  calculating the cosine of the angle theta between these two vectors. The function returns a value between -1, indicating complete opposite vectors, to 1, indicating the same vector. 0 indicates a lack of correlation between the vectors, and intermediate values indicate intermediate levels of similarity.\n",
        "\n",
        "Tha main problem with using  cosine similarity is the  computation between each possible pair of movies. If we have 1000 beers , then we need to perform 1000000 beers.\n",
        "So I will decrese my dataset.\n",
        " \n",
        "\n"
      ]
    },
    {
      "cell_type": "code",
      "execution_count": null,
      "metadata": {
        "colab": {
          "base_uri": "https://localhost:8080/"
        },
        "id": "L6n336sZWqoM",
        "outputId": "f1948d2b-b274-428b-99f8-c4f773f672f2"
      },
      "outputs": [
        {
          "output_type": "stream",
          "name": "stdout",
          "text": [
            "Looking in indexes: https://pypi.org/simple, https://us-python.pkg.dev/colab-wheels/public/simple/\n",
            "Requirement already satisfied: pyspark in /usr/local/lib/python3.7/dist-packages (3.3.0)\n",
            "Requirement already satisfied: py4j==0.10.9.5 in /usr/local/lib/python3.7/dist-packages (from pyspark) (0.10.9.5)\n"
          ]
        }
      ],
      "source": [
        "import requests\n",
        "import pandas as pd\n",
        "import numpy as np\n",
        "import matplotlib.pyplot as plt\n",
        "import seaborn as sns\n",
        "%matplotlib inline\n",
        "!pip install pyspark\n",
        "import pyspark\n",
        "from pyspark.sql import *\n",
        "from pyspark.sql.types import *\n",
        "from pyspark.sql.functions import *\n",
        "from pyspark import SparkContext, SparkConf"
      ]
    },
    {
      "cell_type": "code",
      "execution_count": null,
      "metadata": {
        "colab": {
          "base_uri": "https://localhost:8080/"
        },
        "id": "i9VqF4gVWvcz",
        "outputId": "e3b2b5b5-4a89-428b-d2ef-57c8d88c085d"
      },
      "outputs": [
        {
          "output_type": "stream",
          "name": "stdout",
          "text": [
            "Drive already mounted at /content/drive; to attempt to forcibly remount, call drive.mount(\"/content/drive\", force_remount=True).\n"
          ]
        }
      ],
      "source": [
        "from google.colab import drive\n",
        "drive.mount('/content/drive')"
      ]
    },
    {
      "cell_type": "code",
      "execution_count": null,
      "metadata": {
        "id": "oiRLVpgaWx_T"
      },
      "outputs": [],
      "source": [
        "# Create the session\n",
        "conf = SparkConf().set(\"spark.ui.port\", \"4050\").set('spark.executor.memory', '4G').set('spark.driver.memory', '45G').set('spark.driver.maxResultSize', '10G')\n",
        "\n",
        "# Create the context\n",
        "sc = pyspark.SparkContext(conf=conf)\n",
        "spark = SparkSession.builder.getOrCreate()"
      ]
    },
    {
      "cell_type": "code",
      "execution_count": null,
      "metadata": {
        "id": "fonQUjdZW1rV"
      },
      "outputs": [],
      "source": [
        "spark = SparkSession.builder.appName(\"Raccomandation\").getOrCreate()\n",
        "data = spark.read.csv(\"/content/drive/MyDrive/UNIVERSITA/BIG DATA/BIG DATA /beer_reviews.csv\",inferSchema= True,header = True)"
      ]
    },
    {
      "cell_type": "code",
      "execution_count": null,
      "metadata": {
        "id": "JWICjlBBXJ4f"
      },
      "outputs": [],
      "source": [
        "dataset = data.select('review_profilename', 'beer_beerid', 'review_overall','beer_style','beer_name','beer_abv')\n",
        "preprocessing_data = dataset.na.drop()"
      ]
    },
    {
      "cell_type": "markdown",
      "source": [
        "##trasform unique username in unique id "
      ],
      "metadata": {
        "id": "BHPshjq_Z1QS"
      }
    },
    {
      "cell_type": "code",
      "execution_count": null,
      "metadata": {
        "id": "2amg-iO0Xy5X"
      },
      "outputs": [],
      "source": [
        "from pyspark.ml import Pipeline\n",
        "from pyspark.ml.feature import StringIndexer\n",
        "indexer = StringIndexer(inputCol=\"review_profilename\", outputCol=\"customer_id\").fit(preprocessing_data)"
      ]
    },
    {
      "cell_type": "code",
      "execution_count": null,
      "metadata": {
        "id": "GDXc7OhXX8_O"
      },
      "outputs": [],
      "source": [
        "full_data = indexer.transform(preprocessing_data)"
      ]
    },
    {
      "cell_type": "code",
      "execution_count": null,
      "metadata": {
        "colab": {
          "base_uri": "https://localhost:8080/"
        },
        "id": "bG7ySsgcYJcj",
        "outputId": "8afbb004-f3dc-49a4-c593-5c7d19e29340"
      },
      "outputs": [
        {
          "output_type": "stream",
          "name": "stdout",
          "text": [
            "+------------------+-----------+--------------+--------------------+--------------------+--------+-----------+\n",
            "|review_profilename|beer_beerid|review_overall|          beer_style|           beer_name|beer_abv|customer_id|\n",
            "+------------------+-----------+--------------+--------------------+--------------------+--------+-----------+\n",
            "|           stcules|      47986|           1.5|          Hefeweizen|        Sausa Weizen|     5.0|       85.0|\n",
            "|           stcules|      48213|           3.0|  English Strong Ale|            Red Moon|     6.2|       85.0|\n",
            "|           stcules|      48215|           3.0|Foreign / Export ...|Black Horse Black...|     6.5|       85.0|\n",
            "|           stcules|      47969|           3.0|     German Pilsener|          Sausa Pils|     5.0|       85.0|\n",
            "|    johnmichaelsen|      64883|           4.0|American Double /...|       Cauldron DIPA|     7.7|       45.0|\n",
            "|           oline73|      52159|           3.0|Herbed / Spiced Beer| Caldera Ginger Beer|     4.7|      420.0|\n",
            "|         Reidrover|      52159|           3.5|Herbed / Spiced Beer| Caldera Ginger Beer|     4.7|      180.0|\n",
            "|      alpinebryant|      52159|           3.0|Herbed / Spiced Beer| Caldera Ginger Beer|     4.7|      595.0|\n",
            "|     LordAdmNelson|      52159|           4.0|Herbed / Spiced Beer| Caldera Ginger Beer|     4.7|      731.0|\n",
            "|      augustgarage|      52159|           4.5|Herbed / Spiced Beer| Caldera Ginger Beer|     4.7|      328.0|\n",
            "|           fodeeoz|        436|           3.0|         Light Lager|        Amstel Light|     3.5|     3952.0|\n",
            "|      MadeInOregon|      52159|           5.0|Herbed / Spiced Beer| Caldera Ginger Beer|     4.7|     4081.0|\n",
            "|           rawthar|      52159|           4.0|Herbed / Spiced Beer| Caldera Ginger Beer|     4.7|     3574.0|\n",
            "|       Halcyondays|      52159|           4.0|Herbed / Spiced Beer| Caldera Ginger Beer|     4.7|       26.0|\n",
            "|       RangerClegg|      52159|           3.5|Herbed / Spiced Beer| Caldera Ginger Beer|     4.7|    19805.0|\n",
            "|  Beerandraiderfan|      10789|           3.0|       Oatmeal Stout|Caldera Oatmeal S...|     7.2|       69.0|\n",
            "|        RedDiamond|      10789|           2.0|       Oatmeal Stout|Caldera Oatmeal S...|     7.2|      126.0|\n",
            "|        beerguy101|      12386|           4.0| American Pale Lager|      Caldera OBF 15|     5.6|      148.0|\n",
            "|            jdhilt|        436|           2.5|         Light Lager|        Amstel Light|     3.5|       28.0|\n",
            "|       UCLABrewN84|      58046|           4.5|           Rauchbier|       Rauch Ür Bock|     7.4|      292.0|\n",
            "+------------------+-----------+--------------+--------------------+--------------------+--------+-----------+\n",
            "only showing top 20 rows\n",
            "\n"
          ]
        }
      ],
      "source": [
        "full_data.show()"
      ]
    },
    {
      "cell_type": "markdown",
      "metadata": {
        "id": "adige9ymW3O7"
      },
      "source": [
        "## Pre-processing\n",
        "Preparing the dataset for using Natural Language processing Tokenization\n"
      ]
    },
    {
      "cell_type": "code",
      "execution_count": null,
      "metadata": {
        "id": "flBNA5ySc2rF"
      },
      "outputs": [],
      "source": [
        "preprocessing_data = full_data.toPandas()"
      ]
    },
    {
      "cell_type": "code",
      "source": [
        "data2 = full_data.toPandas()"
      ],
      "metadata": {
        "id": "Z_8d8v-vaSdO"
      },
      "execution_count": null,
      "outputs": []
    },
    {
      "cell_type": "code",
      "source": [
        "preprocessing_data.count()"
      ],
      "metadata": {
        "colab": {
          "base_uri": "https://localhost:8080/"
        },
        "id": "nLfHdW1J0t6r",
        "outputId": "f2b94916-1a31-4b70-9788-473071c3384c"
      },
      "execution_count": null,
      "outputs": [
        {
          "output_type": "execute_result",
          "data": {
            "text/plain": [
              "review_profilename    1518493\n",
              "beer_beerid           1518493\n",
              "review_overall        1518493\n",
              "beer_style            1518493\n",
              "beer_name             1518493\n",
              "beer_abv              1518493\n",
              "customer_id           1518493\n",
              "dtype: int64"
            ]
          },
          "metadata": {},
          "execution_count": 11
        }
      ]
    },
    {
      "cell_type": "markdown",
      "source": [
        "Drop duplicates beer name.\n",
        "Doesn't metter the reviews but the beer profile."
      ],
      "metadata": {
        "id": "VccWIF2QHNMW"
      }
    },
    {
      "cell_type": "code",
      "execution_count": null,
      "metadata": {
        "id": "1UGK16cndQOQ"
      },
      "outputs": [],
      "source": [
        "preprocessing = preprocessing_data.head(15000)"
      ]
    },
    {
      "cell_type": "code",
      "source": [
        "df = preprocessing"
      ],
      "metadata": {
        "id": "AIVZ5hiHsac4"
      },
      "execution_count": null,
      "outputs": []
    },
    {
      "cell_type": "markdown",
      "source": [
        "We are stripping all the beer style in order have one sigle value to vectorize.\n",
        "Each single word now correspond to a style of beer "
      ],
      "metadata": {
        "id": "e2Btrr6ymY_y"
      }
    },
    {
      "cell_type": "code",
      "source": [
        "for ind in df.index:\n",
        "     df['beer_style'][ind] = df['beer_style'][ind].replace(\" \",\"\")"
      ],
      "metadata": {
        "colab": {
          "base_uri": "https://localhost:8080/"
        },
        "id": "cHONrB3xqnok",
        "outputId": "4cf83775-c56a-4f82-c4c2-df47502d03dc"
      },
      "execution_count": null,
      "outputs": [
        {
          "output_type": "stream",
          "name": "stderr",
          "text": [
            "/usr/local/lib/python3.7/dist-packages/ipykernel_launcher.py:2: SettingWithCopyWarning: \n",
            "A value is trying to be set on a copy of a slice from a DataFrame\n",
            "\n",
            "See the caveats in the documentation: https://pandas.pydata.org/pandas-docs/stable/user_guide/indexing.html#returning-a-view-versus-a-copy\n",
            "  \n"
          ]
        }
      ]
    },
    {
      "cell_type": "code",
      "source": [
        "preprocessing = df"
      ],
      "metadata": {
        "id": "bcmccQuz6JEh"
      },
      "execution_count": null,
      "outputs": []
    },
    {
      "cell_type": "markdown",
      "source": [
        "##Merging the two features togheter  "
      ],
      "metadata": {
        "id": "jTyiPYjEYfYv"
      }
    },
    {
      "cell_type": "code",
      "execution_count": null,
      "metadata": {
        "id": "xySyKiho4k8G",
        "colab": {
          "base_uri": "https://localhost:8080/"
        },
        "outputId": "d0f1f760-89db-4092-f83b-441cd75e26c7"
      },
      "outputs": [
        {
          "output_type": "stream",
          "name": "stderr",
          "text": [
            "/usr/local/lib/python3.7/dist-packages/ipykernel_launcher.py:1: SettingWithCopyWarning: \n",
            "A value is trying to be set on a copy of a slice from a DataFrame.\n",
            "Try using .loc[row_indexer,col_indexer] = value instead\n",
            "\n",
            "See the caveats in the documentation: https://pandas.pydata.org/pandas-docs/stable/user_guide/indexing.html#returning-a-view-versus-a-copy\n",
            "  \"\"\"Entry point for launching an IPython kernel.\n",
            "/usr/local/lib/python3.7/dist-packages/ipykernel_launcher.py:2: SettingWithCopyWarning: \n",
            "A value is trying to be set on a copy of a slice from a DataFrame.\n",
            "Try using .loc[row_indexer,col_indexer] = value instead\n",
            "\n",
            "See the caveats in the documentation: https://pandas.pydata.org/pandas-docs/stable/user_guide/indexing.html#returning-a-view-versus-a-copy\n",
            "  \n"
          ]
        },
        {
          "output_type": "execute_result",
          "data": {
            "text/plain": [
              "0                           Hefeweizen 5.0\n",
              "1                     EnglishStrongAle 6.2\n",
              "2                  Foreign/ExportStout 6.5\n",
              "3                       GermanPilsener 5.0\n",
              "4           AmericanDouble/ImperialIPA 7.7\n",
              "                       ...                \n",
              "14995    AmericanDouble/ImperialStout 10.6\n",
              "14996    AmericanDouble/ImperialStout 10.6\n",
              "14997    AmericanDouble/ImperialStout 10.6\n",
              "14998    AmericanDouble/ImperialStout 10.6\n",
              "14999    AmericanDouble/ImperialStout 10.6\n",
              "Name: description, Length: 15000, dtype: object"
            ]
          },
          "metadata": {},
          "execution_count": 16
        }
      ],
      "source": [
        "preprocessing['beer_abv'] = preprocessing['beer_abv'].apply(str)\n",
        "preprocessing['description'] = preprocessing['beer_style'] + \" \" +  preprocessing['beer_abv']\n",
        "preprocessing['description']"
      ]
    },
    {
      "cell_type": "markdown",
      "source": [
        "Drop duplicates beer name, I don't need of multiple reviews I want to create a beer profile for each beers based on it's recommendation "
      ],
      "metadata": {
        "id": "dKtT4bpOgJID"
      }
    },
    {
      "cell_type": "code",
      "source": [
        "preprocessing = preprocessing.drop_duplicates(subset=\"beer_name\", keep='first', inplace=False, ignore_index=False) "
      ],
      "metadata": {
        "id": "zC8HbfFTUqaZ"
      },
      "execution_count": null,
      "outputs": []
    },
    {
      "cell_type": "markdown",
      "source": [
        "## Vectorize the words merged\n",
        "I want to convert all description rows in a vector of words.\n",
        "\n",
        "I used Term Frequency-Inverse Document Frequency (TF-IDF) vectors for each description row.\n",
        "This will give you a matrix where each column represents a word in the description vocabulary and each row represents a Beer."
      ],
      "metadata": {
        "id": "v6SV4yb3Ymy5"
      }
    },
    {
      "cell_type": "code",
      "execution_count": null,
      "metadata": {
        "id": "hhSPmKhA1fS3"
      },
      "outputs": [],
      "source": [
        "from sklearn.feature_extraction.text import TfidfVectorizer, CountVectorizer"
      ]
    },
    {
      "cell_type": "code",
      "execution_count": null,
      "metadata": {
        "id": "3ZgaCoHWeBCo"
      },
      "outputs": [],
      "source": [
        "tf = TfidfVectorizer(analyzer='word', stop_words='english')\n",
        "tfidf_matrix = tf.fit_transform(preprocessing['description'])"
      ]
    },
    {
      "cell_type": "code",
      "execution_count": null,
      "metadata": {
        "id": "vDXVlHcEiOT5",
        "colab": {
          "base_uri": "https://localhost:8080/"
        },
        "outputId": "89a961ba-fd3d-4383-e94c-d84b0b6155e4"
      },
      "outputs": [
        {
          "output_type": "execute_result",
          "data": {
            "text/plain": [
              "(1238, 136)"
            ]
          },
          "metadata": {},
          "execution_count": 20
        }
      ],
      "source": [
        "tfidf_matrix.shape"
      ]
    },
    {
      "cell_type": "markdown",
      "source": [
        ""
      ],
      "metadata": {
        "id": "ngq5wVQ6YAzu"
      }
    },
    {
      "cell_type": "markdown",
      "source": [
        "## Cosine Similarity \n",
        "\n",
        "\n",
        "I use the cosine function to compute the similarity score between beers, where each beer will have a similarity score with every other beer.\n",
        "\n",
        "Cosine similarity is a mathematical computation that tells us the similarity between two vectors. I'm  calculating the cosine of the angle theta between these two vectors. The function returns a value between -1, indicating complete opposite vectors, to 1, indicating the same vector. 0 indicates a lack of correlation between the vectors, and intermediate values indicate intermediate levels of similarity.\n",
        "\n",
        "Tha main problem with using  cosine similarity is the  computation between each possible pair of movies. If we have 1000 beers , then we need to perform 1000000 beers.\n",
        "So I will decrese my dataset.\n"
      ],
      "metadata": {
        "id": "Bs55QPspX_Vq"
      }
    },
    {
      "cell_type": "code",
      "execution_count": null,
      "metadata": {
        "id": "UwQ_N9dG1_k1",
        "colab": {
          "base_uri": "https://localhost:8080/"
        },
        "outputId": "a5f0ccdb-afb8-4886-c027-bb82bff07d4d"
      },
      "outputs": [
        {
          "output_type": "stream",
          "name": "stdout",
          "text": [
            "[[1. 0. 0. ... 0. 0. 0.]\n",
            " [0. 1. 0. ... 0. 0. 0.]\n",
            " [0. 0. 1. ... 0. 0. 0.]\n",
            " ...\n",
            " [0. 0. 0. ... 1. 0. 0.]\n",
            " [0. 0. 0. ... 0. 1. 0.]\n",
            " [0. 0. 0. ... 0. 0. 1.]]\n"
          ]
        }
      ],
      "source": [
        "from sklearn.metrics.pairwise import linear_kernel, cosine_similarity\n",
        "cosine_sim = linear_kernel(tfidf_matrix, tfidf_matrix)\n",
        "print(cosine_sim)"
      ]
    },
    {
      "cell_type": "markdown",
      "source": [
        "we need a mechanism to identify the index of a beer in our metadata DataFrame, given its name."
      ],
      "metadata": {
        "id": "leRDbWumu6yL"
      }
    },
    {
      "cell_type": "code",
      "execution_count": null,
      "metadata": {
        "id": "pogAXJo3e8Nx"
      },
      "outputs": [],
      "source": [
        "preprocessing = preprocessing.reset_index()\n",
        "indices = pd.Series(preprocessing.index, index=preprocessing['beer_name'])\n",
        "\n",
        "\n",
        "#we need a mechanism to identify the index of a beer in our metadata DataFrame, given its name."
      ]
    },
    {
      "cell_type": "markdown",
      "source": [
        "##Get recommandations"
      ],
      "metadata": {
        "id": "IP8GxRmyYE6g"
      }
    },
    {
      "cell_type": "code",
      "source": [
        "print(indices)"
      ],
      "metadata": {
        "colab": {
          "base_uri": "https://localhost:8080/"
        },
        "id": "Y9vkjlj8PliK",
        "outputId": "64196971-a7a8-4a86-8363-032c43d1eb14"
      },
      "execution_count": null,
      "outputs": [
        {
          "output_type": "stream",
          "name": "stdout",
          "text": [
            "beer_name\n",
            "Sausa Weizen                      0\n",
            "Red Moon                          1\n",
            "Black Horse Black Beer            2\n",
            "Sausa Pils                        3\n",
            "Cauldron DIPA                     4\n",
            "                               ... \n",
            "Founders CBS Imperial Stout    1233\n",
            "Founders Grand Rapids Stout    1234\n",
            "Founders All Day IPA           1235\n",
            "Founders Vanilla Porter        1236\n",
            "Founders Devil Dancer          1237\n",
            "Length: 1238, dtype: int64\n"
          ]
        }
      ]
    },
    {
      "cell_type": "markdown",
      "source": [
        "Get recommendations By beers_name"
      ],
      "metadata": {
        "id": "C0dCtCUcfkgD"
      }
    },
    {
      "cell_type": "code",
      "execution_count": null,
      "metadata": {
        "id": "uQX2ovNM26eE"
      },
      "outputs": [],
      "source": [
        "def get_recommendations(beer_name):\n",
        "   # print(cosine_sim)\n",
        "    idx = indices[beer_name]\n",
        "    #print(idx)\n",
        "   # print(type(idx))\n",
        "    sim_scores = list(enumerate(cosine_sim[idx])) # enumrate each item id with cosine similarity\n",
        "    sim_scores = sorted(sim_scores, key=lambda x: x[1], reverse=True)\n",
        "    sim_scores = sim_scores[1:31]\n",
        "    #print(sim_scores)\n",
        "    beer_indices = [i[0] for i in sim_scores]\n",
        "    #print(beer_indices)\n",
        "    return indices.iloc[beer_indices]\n",
        "    #beer_name.iloc[beer_indices]"
      ]
    },
    {
      "cell_type": "code",
      "execution_count": null,
      "metadata": {
        "id": "yVoikHWj3Cxy"
      },
      "outputs": [],
      "source": [
        "table = get_recommendations('Sausa Pils')"
      ]
    },
    {
      "cell_type": "code",
      "source": [
        "print(table)"
      ],
      "metadata": {
        "colab": {
          "base_uri": "https://localhost:8080/"
        },
        "id": "clmI5-GpvCtQ",
        "outputId": "dd681ddf-61bb-49bf-b05f-a156e5800f18"
      },
      "execution_count": null,
      "outputs": [
        {
          "output_type": "stream",
          "name": "stdout",
          "text": [
            "beer_name\n",
            "Kirner Pils Premium             29\n",
            "Caldera Pilsener Bier           30\n",
            "Amstel 1870                     67\n",
            "Pilsner                        127\n",
            "Zahre Chiara Pilsen            465\n",
            "El Dorado Premium Pilsener     555\n",
            "Freiherrn Pils                 569\n",
            "Export Pils                    762\n",
            "Kaiser Pils, Feinherb          766\n",
            "German Pilsener                842\n",
            "Thomaskirch Pils               889\n",
            "Sternquell Pils                898\n",
            "Hartmann Edelpils              960\n",
            "MM Pils                       1048\n",
            "Sausa Weizen                     0\n",
            "Red Moon                         1\n",
            "Black Horse Black Beer           2\n",
            "Cauldron DIPA                    4\n",
            "Caldera Ginger Beer              5\n",
            "Amstel Light                     6\n",
            "Caldera Oatmeal Stout            7\n",
            "Caldera OBF 15                   8\n",
            "Rauch Ür Bock                    9\n",
            "Caldera Pale Ale                10\n",
            "Pilot Rock Porter               11\n",
            "Vas Deferens Ale                12\n",
            "Caldera IPA                     13\n",
            "Old Growth Imperial Stout       14\n",
            "Dry Hop Red                     15\n",
            "Southside Strong                16\n",
            "dtype: int64\n"
          ]
        }
      ]
    },
    {
      "cell_type": "markdown",
      "source": [
        "## Precision & Recall evaluation\n",
        "RMSE work only if we have a predict ratings ( is the error between the real rating and the prediction)\n",
        "So there are other ways to measure the accuracy besides RMSE. In that case i think about using  precision and recall to evaluate your recommendations.\n",
        "\n",
        "There are multiple ways to evaluate this content based system with precision and recall.\n",
        "It always depends to the criteria you decide the relevant and irrelevant prediction.\n",
        "\n",
        "\n",
        "For exemple my idea is to take  30 seggested beers by one user and see if this user have already drunk these beers (before the prediction).\n",
        "If both thinks appened there is a True Positive while if a beer suggested is not in the list of viewed is a false positive.\n",
        "While if a rated beer is not in suggested is a false negative and so on.\n",
        "\n",
        "NB : This is not the only one solution and this couldn't work for other system and also for mine because evaluating content based is almost difficult.\n",
        "\n",
        "\n",
        "\n"
      ],
      "metadata": {
        "id": "JpMO4J9TepS6"
      }
    },
    {
      "cell_type": "markdown",
      "source": [
        "return a list containing tuple (customer,beer) that are the beers rated five stars by customers"
      ],
      "metadata": {
        "id": "WGvq9D1rKdrT"
      }
    },
    {
      "cell_type": "code",
      "source": [
        "#select a costumer that like a beer\n",
        "def findcustomer():\n",
        "  five_star = []\n",
        "  for ind in df.index:\n",
        "    if df['review_profilename'][ind] == \"northyorksammy\":\n",
        "      if df['review_overall'][ind] == 5:\n",
        "            five_star.append((df[\"beer_name\"][ind]))\n",
        "  return(five_star)\n",
        "beer_fivestar = findcustomer()\n",
        "beer_fivestar\n",
        "\n"
      ],
      "metadata": {
        "id": "sIEga3vAeo-a",
        "colab": {
          "base_uri": "https://localhost:8080/"
        },
        "outputId": "ab8f95f5-3744-432d-82e6-5c2aed277ed3"
      },
      "execution_count": null,
      "outputs": [
        {
          "output_type": "execute_result",
          "data": {
            "text/plain": [
              "['B.O.R.I.S. The Crusher Oatmeal-Imperial Stout']"
            ]
          },
          "metadata": {},
          "execution_count": 27
        }
      ]
    },
    {
      "cell_type": "code",
      "source": [
        "get_recommendations('B.O.R.I.S. The Crusher Oatmeal-Imperial Stout')"
      ],
      "metadata": {
        "colab": {
          "base_uri": "https://localhost:8080/"
        },
        "id": "a12b76yNSzrQ",
        "outputId": "2682046b-97f3-4648-c61a-4cb651c174a5"
      },
      "execution_count": null,
      "outputs": [
        {
          "output_type": "execute_result",
          "data": {
            "text/plain": [
              "beer_name\n",
              "Barrel Aged B.O.R.I.S. Oatmeal Imperial Stout       33\n",
              "Brouemont Russian Imperial Stout                   213\n",
              "B.O.R.I.S. The Crusher Oatmeal-Imperial Stout      282\n",
              "Undertow                                           316\n",
              "B.O.R.I.S. #100                                    366\n",
              "BORIS Royale                                       372\n",
              "Cafe BORIS                                         379\n",
              "Jason Green's Russian Imperial Stout               406\n",
              "Speedway Imperial Stout                           1062\n",
              "Broad Ripple Evilsizors Russian Imperial Stout     125\n",
              "Black River Imperial Stout                         174\n",
              "D.O.R.I.S. The Destroyer Double Imperial Stout     355\n",
              "YouEnjoyMyStout                                    377\n",
              "Sausa Weizen                                         0\n",
              "Red Moon                                             1\n",
              "Black Horse Black Beer                               2\n",
              "Sausa Pils                                           3\n",
              "Cauldron DIPA                                        4\n",
              "Caldera Ginger Beer                                  5\n",
              "Amstel Light                                         6\n",
              "Caldera Oatmeal Stout                                7\n",
              "Caldera OBF 15                                       8\n",
              "Rauch Ür Bock                                        9\n",
              "Caldera Pale Ale                                    10\n",
              "Pilot Rock Porter                                   11\n",
              "Vas Deferens Ale                                    12\n",
              "Caldera IPA                                         13\n",
              "Dry Hop Red                                         15\n",
              "Southside Strong                                    16\n",
              "Caldera Märzen                                      17\n",
              "dtype: int64"
            ]
          },
          "metadata": {},
          "execution_count": 28
        }
      ]
    },
    {
      "cell_type": "code",
      "source": [
        "customer_925 =  get_recommendations(findcustomer()[0])\n",
        "print(customer_925)"
      ],
      "metadata": {
        "id": "IfVqHozmG39l",
        "colab": {
          "base_uri": "https://localhost:8080/"
        },
        "outputId": "357f8349-569c-454d-82b7-958b3189e569"
      },
      "execution_count": null,
      "outputs": [
        {
          "output_type": "stream",
          "name": "stdout",
          "text": [
            "beer_name\n",
            "Barrel Aged B.O.R.I.S. Oatmeal Imperial Stout       33\n",
            "Brouemont Russian Imperial Stout                   213\n",
            "B.O.R.I.S. The Crusher Oatmeal-Imperial Stout      282\n",
            "Undertow                                           316\n",
            "B.O.R.I.S. #100                                    366\n",
            "BORIS Royale                                       372\n",
            "Cafe BORIS                                         379\n",
            "Jason Green's Russian Imperial Stout               406\n",
            "Speedway Imperial Stout                           1062\n",
            "Broad Ripple Evilsizors Russian Imperial Stout     125\n",
            "Black River Imperial Stout                         174\n",
            "D.O.R.I.S. The Destroyer Double Imperial Stout     355\n",
            "YouEnjoyMyStout                                    377\n",
            "Sausa Weizen                                         0\n",
            "Red Moon                                             1\n",
            "Black Horse Black Beer                               2\n",
            "Sausa Pils                                           3\n",
            "Cauldron DIPA                                        4\n",
            "Caldera Ginger Beer                                  5\n",
            "Amstel Light                                         6\n",
            "Caldera Oatmeal Stout                                7\n",
            "Caldera OBF 15                                       8\n",
            "Rauch Ür Bock                                        9\n",
            "Caldera Pale Ale                                    10\n",
            "Pilot Rock Porter                                   11\n",
            "Vas Deferens Ale                                    12\n",
            "Caldera IPA                                         13\n",
            "Dry Hop Red                                         15\n",
            "Southside Strong                                    16\n",
            "Caldera Märzen                                      17\n",
            "dtype: int64\n"
          ]
        }
      ]
    },
    {
      "cell_type": "markdown",
      "source": [
        "Get The list of all predicted beers"
      ],
      "metadata": {
        "id": "b6mv7J50a5FX"
      }
    },
    {
      "cell_type": "code",
      "source": [
        "listpredicted = []\n",
        "for x in customer_925.keys():\n",
        "  listpredicted.append(x)\n",
        "print(listpredicted)\n",
        "len(listpredicted)"
      ],
      "metadata": {
        "id": "V4_hNZblH73Q",
        "colab": {
          "base_uri": "https://localhost:8080/"
        },
        "outputId": "0bf585c9-96a1-4add-c5c6-d5aaf3a7e7b8"
      },
      "execution_count": null,
      "outputs": [
        {
          "output_type": "stream",
          "name": "stdout",
          "text": [
            "['Barrel Aged B.O.R.I.S. Oatmeal Imperial Stout', 'Brouemont Russian Imperial Stout', 'B.O.R.I.S. The Crusher Oatmeal-Imperial Stout', 'Undertow', 'B.O.R.I.S. #100', 'BORIS Royale', 'Cafe BORIS', \"Jason Green's Russian Imperial Stout\", 'Speedway Imperial Stout', 'Broad Ripple Evilsizors Russian Imperial Stout', 'Black River Imperial Stout', 'D.O.R.I.S. The Destroyer Double Imperial Stout', 'YouEnjoyMyStout', 'Sausa Weizen', 'Red Moon', 'Black Horse Black Beer', 'Sausa Pils', 'Cauldron DIPA', 'Caldera Ginger Beer', 'Amstel Light', 'Caldera Oatmeal Stout', 'Caldera OBF 15', 'Rauch Ür Bock', 'Caldera Pale Ale', 'Pilot Rock Porter', 'Vas Deferens Ale', 'Caldera IPA', 'Dry Hop Red', 'Southside Strong', 'Caldera Märzen']\n"
          ]
        },
        {
          "output_type": "execute_result",
          "data": {
            "text/plain": [
              "30"
            ]
          },
          "metadata": {},
          "execution_count": 30
        }
      ]
    },
    {
      "cell_type": "markdown",
      "source": [
        "This function loop the original dataset searching if a beers rated by the customer 2newyorksammy\" is in predicted beers"
      ],
      "metadata": {
        "id": "AYtei67Ca9n5"
      }
    },
    {
      "cell_type": "code",
      "source": [
        "def prrc(lista):\n",
        "  positive_list = []\n",
        "  negative_list = []\n",
        "  count = 0 \n",
        "  for ind in df.index:\n",
        "      if data2['review_profilename'][ind] == \"northyorksammy\": \n",
        "        count = count +1\n",
        "        if  data2['beer_name'][ind] in lista and  data2['beer_name'][ind] not in positive_list:  # if the customer has reviewed the beer and it is in the predicted list \n",
        "          positive_list.append(data2['beer_name'][ind])\n",
        "        if  data2['beer_name'][ind] not in lista and data2['beer_name'][ind] not in negative_list:                      # if the customer has reviewed the beer and it is not in the predicted list\n",
        "          negative_list.append(data2['beer_name'][ind])\n",
        "  TP = len(positive_list)\n",
        "  FN = len(negative_list)\n",
        "  FP = 0\n",
        "  for x in lista : \n",
        "    if x not in positive_list and x not in negative_list: \n",
        "      FP = FP + 1\n",
        "  \n",
        "  Precision = TP/(TP+FP)\n",
        "  Recall = TP/(TP+FN)\n",
        "\n",
        "  return (Precision,Recall) \n",
        "\n",
        "\n",
        "  \n",
        "\n",
        "        \n",
        "\n"
      ],
      "metadata": {
        "id": "ZBBvYUMBIoJI"
      },
      "execution_count": null,
      "outputs": []
    },
    {
      "cell_type": "code",
      "source": [
        "prrc(listpredicted)"
      ],
      "metadata": {
        "id": "e0H1dXWgKG43",
        "colab": {
          "base_uri": "https://localhost:8080/"
        },
        "outputId": "4a0cbdc1-6fc1-4a9a-c5b5-21fadf14ca13"
      },
      "execution_count": null,
      "outputs": [
        {
          "output_type": "execute_result",
          "data": {
            "text/plain": [
              "(0.2, 0.06818181818181818)"
            ]
          },
          "metadata": {},
          "execution_count": 32
        }
      ]
    },
    {
      "cell_type": "code",
      "source": [
        ""
      ],
      "metadata": {
        "id": "XHsMCTgY-0uW"
      },
      "execution_count": null,
      "outputs": []
    },
    {
      "cell_type": "markdown",
      "source": [
        "##Evaluation Result \n",
        "As already saw It's very difficult to create an evaluation methods for Content based model\n",
        "Infact the method used below doesn't work that well.\n",
        "Probably because there are alot of (beers more than 40000) and it's difficult that a customer review the same beers of the prediction."
      ],
      "metadata": {
        "id": "XpAu1ijK93k4"
      }
    },
    {
      "cell_type": "markdown",
      "source": [
        "Bibliography\n",
        "[Getting started with Movie Reccomandations](https://www.kaggle.com/code/ibtesama/getting-started-with-a-movie-recommendation-system)"
      ],
      "metadata": {
        "id": "WsQFU5r5_0mi"
      }
    }
  ],
  "metadata": {
    "accelerator": "TPU",
    "colab": {
      "name": "Content Based Filtering .ipynb",
      "provenance": [],
      "collapsed_sections": []
    },
    "gpuClass": "standard",
    "kernelspec": {
      "display_name": "Python 3",
      "name": "python3"
    },
    "language_info": {
      "name": "python"
    }
  },
  "nbformat": 4,
  "nbformat_minor": 0
}