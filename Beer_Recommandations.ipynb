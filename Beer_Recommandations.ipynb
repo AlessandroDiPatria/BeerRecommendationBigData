{
  "nbformat": 4,
  "nbformat_minor": 0,
  "metadata": {
    "colab": {
      "name": "Beer_Recommandations.ipynb",
      "provenance": [],
      "collapsed_sections": []
    },
    "kernelspec": {
      "name": "python3",
      "display_name": "Python 3"
    },
    "language_info": {
      "name": "python"
    }
  },
  "cells": [
    {
      "cell_type": "markdown",
      "source": [
        "#Beer Recommandations \n",
        "In this notebook I'll give beers recommendations using Collaborative filtering approach.\n",
        "In particular I'll create Alternating Least of Squares model using pyspark and Single Vaulue Decomposition by Surprise.\n",
        "I built to different  collaborative filtering approach in order to compare them.\n",
        "\n",
        "\n"
      ],
      "metadata": {
        "id": "ZHzLLLPfa7Dk"
      }
    },
    {
      "cell_type": "code",
      "source": [
        "import requests\n",
        "import pandas as pd\n",
        "import numpy as np\n",
        "import matplotlib.pyplot as plt\n",
        "import seaborn as sns\n",
        "%matplotlib inline\n",
        "!pip install pyspark\n",
        "import pyspark\n",
        "from pyspark.sql import *\n",
        "from pyspark.sql.types import *\n",
        "from pyspark.sql.functions import *\n",
        "from pyspark import SparkContext, SparkConf"
      ],
      "metadata": {
        "colab": {
          "base_uri": "https://localhost:8080/"
        },
        "id": "7ci1jSs6bMj8",
        "outputId": "3f301586-74da-4d1d-864f-1843aafb4551"
      },
      "execution_count": null,
      "outputs": [
        {
          "output_type": "stream",
          "name": "stdout",
          "text": [
            "Looking in indexes: https://pypi.org/simple, https://us-python.pkg.dev/colab-wheels/public/simple/\n",
            "Requirement already satisfied: pyspark in /usr/local/lib/python3.7/dist-packages (3.3.0)\n",
            "Requirement already satisfied: py4j==0.10.9.5 in /usr/local/lib/python3.7/dist-packages (from pyspark) (0.10.9.5)\n"
          ]
        }
      ]
    },
    {
      "cell_type": "code",
      "source": [
        "from google.colab import drive\n",
        "drive.mount('/content/drive')"
      ],
      "metadata": {
        "colab": {
          "base_uri": "https://localhost:8080/"
        },
        "id": "XGFDzYqMbNbK",
        "outputId": "f0a18ffe-dfdb-49ed-c91c-dcbf094b4746"
      },
      "execution_count": null,
      "outputs": [
        {
          "output_type": "stream",
          "name": "stdout",
          "text": [
            "Drive already mounted at /content/drive; to attempt to forcibly remount, call drive.mount(\"/content/drive\", force_remount=True).\n"
          ]
        }
      ]
    },
    {
      "cell_type": "code",
      "source": [
        "# Create the session\n",
        "conf = SparkConf().set(\"spark.ui.port\", \"4050\").set('spark.executor.memory', '4G').set('spark.driver.memory', '45G').set('spark.driver.maxResultSize', '10G')\n",
        "\n",
        "# Create the context\n",
        "sc = pyspark.SparkContext(conf=conf)\n",
        "spark = SparkSession.builder.getOrCreate()"
      ],
      "metadata": {
        "id": "xX5KAA_FbRKr"
      },
      "execution_count": null,
      "outputs": []
    },
    {
      "cell_type": "markdown",
      "source": [
        ""
      ],
      "metadata": {
        "id": "BI4jZa3FbBDE"
      }
    },
    {
      "cell_type": "markdown",
      "source": [
        "#Load dataset"
      ],
      "metadata": {
        "id": "splExolxa_Dp"
      }
    },
    {
      "cell_type": "code",
      "source": [
        "spark = SparkSession.builder.appName(\"Raccomandation\").getOrCreate()\n",
        "data = spark.read.csv(\"/content/drive/MyDrive/UNIVERSITA/BIG DATA/BIG DATA /beer_reviews.csv\",inferSchema= True,header = True)"
      ],
      "metadata": {
        "id": "IEOKFVGJbB-u"
      },
      "execution_count": null,
      "outputs": []
    },
    {
      "cell_type": "code",
      "source": [
        "data.show()"
      ],
      "metadata": {
        "id": "HY9YpEWXbt6a",
        "colab": {
          "base_uri": "https://localhost:8080/"
        },
        "outputId": "7153cdae-9927-482f-fdb8-b5442ff2b32e"
      },
      "execution_count": null,
      "outputs": [
        {
          "output_type": "stream",
          "name": "stdout",
          "text": [
            "+----------+--------------------+-----------+--------------+------------+-----------------+------------------+--------------------+-------------+------------+--------------------+--------+-----------+\n",
            "|brewery_id|        brewery_name|review_time|review_overall|review_aroma|review_appearance|review_profilename|          beer_style|review_palate|review_taste|           beer_name|beer_abv|beer_beerid|\n",
            "+----------+--------------------+-----------+--------------+------------+-----------------+------------------+--------------------+-------------+------------+--------------------+--------+-----------+\n",
            "|     10325|     Vecchio Birraio| 1234817823|           1.5|         2.0|              2.5|           stcules|          Hefeweizen|          1.5|         1.5|        Sausa Weizen|     5.0|      47986|\n",
            "|     10325|     Vecchio Birraio| 1235915097|           3.0|         2.5|              3.0|           stcules|  English Strong Ale|          3.0|         3.0|            Red Moon|     6.2|      48213|\n",
            "|     10325|     Vecchio Birraio| 1235916604|           3.0|         2.5|              3.0|           stcules|Foreign / Export ...|          3.0|         3.0|Black Horse Black...|     6.5|      48215|\n",
            "|     10325|     Vecchio Birraio| 1234725145|           3.0|         3.0|              3.5|           stcules|     German Pilsener|          2.5|         3.0|          Sausa Pils|     5.0|      47969|\n",
            "|      1075|Caldera Brewing C...| 1293735206|           4.0|         4.5|              4.0|    johnmichaelsen|American Double /...|          4.0|         4.5|       Cauldron DIPA|     7.7|      64883|\n",
            "|      1075|Caldera Brewing C...| 1325524659|           3.0|         3.5|              3.5|           oline73|Herbed / Spiced Beer|          3.0|         3.5| Caldera Ginger Beer|     4.7|      52159|\n",
            "|      1075|Caldera Brewing C...| 1318991115|           3.5|         3.5|              3.5|         Reidrover|Herbed / Spiced Beer|          4.0|         4.0| Caldera Ginger Beer|     4.7|      52159|\n",
            "|      1075|Caldera Brewing C...| 1306276018|           3.0|         2.5|              3.5|      alpinebryant|Herbed / Spiced Beer|          2.0|         3.5| Caldera Ginger Beer|     4.7|      52159|\n",
            "|      1075|Caldera Brewing C...| 1290454503|           4.0|         3.0|              3.5|     LordAdmNelson|Herbed / Spiced Beer|          3.5|         4.0| Caldera Ginger Beer|     4.7|      52159|\n",
            "|      1075|Caldera Brewing C...| 1285632924|           4.5|         3.5|              5.0|      augustgarage|Herbed / Spiced Beer|          4.0|         4.0| Caldera Ginger Beer|     4.7|      52159|\n",
            "|       163|Amstel Brouwerij ...| 1010963392|           3.0|         2.0|              3.0|           fodeeoz|         Light Lager|          2.5|         2.5|        Amstel Light|     3.5|        436|\n",
            "|      1075|Caldera Brewing C...| 1283154365|           5.0|         5.0|              4.0|      MadeInOregon|Herbed / Spiced Beer|          4.0|         4.0| Caldera Ginger Beer|     4.7|      52159|\n",
            "|      1075|Caldera Brewing C...| 1277557990|           4.0|         4.0|              4.0|           rawthar|Herbed / Spiced Beer|          3.5|         4.0| Caldera Ginger Beer|     4.7|      52159|\n",
            "|      1075|Caldera Brewing C...| 1275779250|           4.0|         4.5|              3.0|       Halcyondays|Herbed / Spiced Beer|          2.5|         3.0| Caldera Ginger Beer|     4.7|      52159|\n",
            "|      1075|Caldera Brewing C...| 1273109020|           3.5|         4.0|              3.0|       RangerClegg|Herbed / Spiced Beer|          3.0|         4.0| Caldera Ginger Beer|     4.7|      52159|\n",
            "|      1075|Caldera Brewing C...| 1316025612|           3.0|         3.0|              2.5|  Beerandraiderfan|       Oatmeal Stout|          3.0|         3.0|Caldera Oatmeal S...|     7.2|      10789|\n",
            "|      1075|Caldera Brewing C...| 1103502339|           2.0|         1.5|              2.5|        RedDiamond|       Oatmeal Stout|          2.5|         2.0|Caldera Oatmeal S...|     7.2|      10789|\n",
            "|      1075|Caldera Brewing C...| 1062311123|           4.0|         3.0|              4.0|        beerguy101| American Pale Lager|          4.0|         4.0|      Caldera OBF 15|     5.6|      12386|\n",
            "|       163|Amstel Brouwerij ...| 1010861086|           2.5|         3.0|              3.0|            jdhilt|         Light Lager|          2.0|         2.0|        Amstel Light|     3.5|        436|\n",
            "|      1075|Caldera Brewing C...| 1325478004|           4.5|         4.5|              3.0|       UCLABrewN84|           Rauchbier|          4.0|         4.5|       Rauch Ür Bock|     7.4|      58046|\n",
            "+----------+--------------------+-----------+--------------+------------+-----------------+------------------+--------------------+-------------+------------+--------------------+--------+-----------+\n",
            "only showing top 20 rows\n",
            "\n"
          ]
        }
      ]
    },
    {
      "cell_type": "markdown",
      "source": [
        "Select relevant features"
      ],
      "metadata": {
        "id": "2LTCV59b8L5k"
      }
    },
    {
      "cell_type": "code",
      "source": [
        "data_features = data.select(\"review_profilename\",\"beer_beerid\",\"review_overall\",\"beer_style\",\"brewery_id\",\"beer_name\")"
      ],
      "metadata": {
        "id": "Z4KCfiy9cwqT"
      },
      "execution_count": null,
      "outputs": []
    },
    {
      "cell_type": "code",
      "source": [
        "data_features.show()"
      ],
      "metadata": {
        "id": "QvDF_6oWeEru",
        "colab": {
          "base_uri": "https://localhost:8080/"
        },
        "outputId": "8006fd7f-cbf6-4d89-87ba-3e7fd5c61930"
      },
      "execution_count": null,
      "outputs": [
        {
          "output_type": "stream",
          "name": "stdout",
          "text": [
            "+------------------+-----------+--------------+--------------------+----------+--------------------+\n",
            "|review_profilename|beer_beerid|review_overall|          beer_style|brewery_id|           beer_name|\n",
            "+------------------+-----------+--------------+--------------------+----------+--------------------+\n",
            "|           stcules|      47986|           1.5|          Hefeweizen|     10325|        Sausa Weizen|\n",
            "|           stcules|      48213|           3.0|  English Strong Ale|     10325|            Red Moon|\n",
            "|           stcules|      48215|           3.0|Foreign / Export ...|     10325|Black Horse Black...|\n",
            "|           stcules|      47969|           3.0|     German Pilsener|     10325|          Sausa Pils|\n",
            "|    johnmichaelsen|      64883|           4.0|American Double /...|      1075|       Cauldron DIPA|\n",
            "|           oline73|      52159|           3.0|Herbed / Spiced Beer|      1075| Caldera Ginger Beer|\n",
            "|         Reidrover|      52159|           3.5|Herbed / Spiced Beer|      1075| Caldera Ginger Beer|\n",
            "|      alpinebryant|      52159|           3.0|Herbed / Spiced Beer|      1075| Caldera Ginger Beer|\n",
            "|     LordAdmNelson|      52159|           4.0|Herbed / Spiced Beer|      1075| Caldera Ginger Beer|\n",
            "|      augustgarage|      52159|           4.5|Herbed / Spiced Beer|      1075| Caldera Ginger Beer|\n",
            "|           fodeeoz|        436|           3.0|         Light Lager|       163|        Amstel Light|\n",
            "|      MadeInOregon|      52159|           5.0|Herbed / Spiced Beer|      1075| Caldera Ginger Beer|\n",
            "|           rawthar|      52159|           4.0|Herbed / Spiced Beer|      1075| Caldera Ginger Beer|\n",
            "|       Halcyondays|      52159|           4.0|Herbed / Spiced Beer|      1075| Caldera Ginger Beer|\n",
            "|       RangerClegg|      52159|           3.5|Herbed / Spiced Beer|      1075| Caldera Ginger Beer|\n",
            "|  Beerandraiderfan|      10789|           3.0|       Oatmeal Stout|      1075|Caldera Oatmeal S...|\n",
            "|        RedDiamond|      10789|           2.0|       Oatmeal Stout|      1075|Caldera Oatmeal S...|\n",
            "|        beerguy101|      12386|           4.0| American Pale Lager|      1075|      Caldera OBF 15|\n",
            "|            jdhilt|        436|           2.5|         Light Lager|       163|        Amstel Light|\n",
            "|       UCLABrewN84|      58046|           4.5|           Rauchbier|      1075|       Rauch Ür Bock|\n",
            "+------------------+-----------+--------------+--------------------+----------+--------------------+\n",
            "only showing top 20 rows\n",
            "\n"
          ]
        }
      ]
    },
    {
      "cell_type": "code",
      "source": [
        "data_features.describe().show()"
      ],
      "metadata": {
        "colab": {
          "base_uri": "https://localhost:8080/"
        },
        "id": "fulOF4F3gCBb",
        "outputId": "bca3d97f-49a1-4fb1-cf4e-9368c71a8789"
      },
      "execution_count": null,
      "outputs": [
        {
          "output_type": "stream",
          "name": "stdout",
          "text": [
            "+-------+--------------------+-----------------+------------------+----------+------------------+------------------------+\n",
            "|summary|  review_profilename|      beer_beerid|    review_overall|beer_style|        brewery_id|               beer_name|\n",
            "+-------+--------------------+-----------------+------------------+----------+------------------+------------------------+\n",
            "|  count|             1586266|          1586614|           1586614|   1586614|           1586614|                 1586614|\n",
            "|   mean|4.8875126087603307E8|21712.79427888573|3.8155808533140387|      null|3130.0992018222455|       2684.936936936937|\n",
            "| stddev| 5.370061777898421E9|21818.33599666985| 0.720621868051718|      null| 5578.103987474297|      12877.219938886066|\n",
            "|    min|            0110x011|                3|               0.0|   Altbier|                 1|             ! (Old Ale)|\n",
            "|    max|            zzajjber|            77317|               5.0|   Witbier|             28003|葉山ビール (Hayama Beer)|\n",
            "+-------+--------------------+-----------------+------------------+----------+------------------+------------------------+\n",
            "\n"
          ]
        }
      ]
    },
    {
      "cell_type": "markdown",
      "source": [
        "#Most common rate"
      ],
      "metadata": {
        "id": "kzWfp9xTeO90"
      }
    },
    {
      "cell_type": "markdown",
      "source": [
        "#Preprocessing\n"
      ],
      "metadata": {
        "id": "uTQMpkTXgpIz"
      }
    },
    {
      "cell_type": "markdown",
      "source": [
        "Check any missing values "
      ],
      "metadata": {
        "id": "rfVZsVxblQ7Z"
      }
    },
    {
      "cell_type": "code",
      "source": [
        "print(data_features.select([count(when(isnan(c) | col(c).isNull(), c)).alias(c) for c in data_features.columns]).show())"
      ],
      "metadata": {
        "colab": {
          "base_uri": "https://localhost:8080/"
        },
        "id": "NpZ85GBvgrx5",
        "outputId": "8affe08c-d2b5-4c1e-925c-70c87f20dde9"
      },
      "execution_count": null,
      "outputs": [
        {
          "output_type": "stream",
          "name": "stdout",
          "text": [
            "+------------------+-----------+--------------+----------+----------+---------+\n",
            "|review_profilename|beer_beerid|review_overall|beer_style|brewery_id|beer_name|\n",
            "+------------------+-----------+--------------+----------+----------+---------+\n",
            "|               348|          0|             0|         0|         0|        0|\n",
            "+------------------+-----------+--------------+----------+----------+---------+\n",
            "\n",
            "None\n"
          ]
        }
      ]
    },
    {
      "cell_type": "markdown",
      "source": [
        "##Drop Null rows in dataset"
      ],
      "metadata": {
        "id": "YNoOtWWqk56X"
      }
    },
    {
      "cell_type": "code",
      "source": [
        "preprocessing_data = data_features.na.drop()\n"
      ],
      "metadata": {
        "id": "1lDakfRbk4yD"
      },
      "execution_count": null,
      "outputs": []
    },
    {
      "cell_type": "markdown",
      "source": [
        "\n",
        "Percentage of NA values "
      ],
      "metadata": {
        "id": "3xITclxxmDvV"
      }
    },
    {
      "cell_type": "code",
      "source": [
        "diff = data_features.count()- preprocessing_data.count() \n",
        "print (\"percentage of na values are : \" +str(float((diff/(data_features.count())))) +\"\"+\"%\")"
      ],
      "metadata": {
        "colab": {
          "base_uri": "https://localhost:8080/"
        },
        "id": "7muqhq9Yl6vY",
        "outputId": "9eef3d2f-25cf-4e37-9585-55197a124d0a"
      },
      "execution_count": null,
      "outputs": [
        {
          "output_type": "stream",
          "name": "stdout",
          "text": [
            "percentage of na values are : 0.00021933501154029902%\n"
          ]
        }
      ]
    },
    {
      "cell_type": "code",
      "source": [
        "distinct_profilename  = data_features.select(\"review_profilename\").distinct().count()\n",
        "distinct_beerid = data_features.select(\"beer_beerid\").distinct().count()\n",
        "print(distinct_beerid)\n",
        "print(distinct_profilename)\n"
      ],
      "metadata": {
        "colab": {
          "base_uri": "https://localhost:8080/"
        },
        "id": "F3WO76asg3Fw",
        "outputId": "24872a3a-783e-446a-8017-abbc3bd38ce3"
      },
      "execution_count": null,
      "outputs": [
        {
          "output_type": "stream",
          "name": "stdout",
          "text": [
            "66055\n",
            "33388\n"
          ]
        }
      ]
    },
    {
      "cell_type": "markdown",
      "source": [
        "##Drop duplicates\n",
        "* Percentage of duplicates\n",
        "* dropping rows duplicated"
      ],
      "metadata": {
        "id": "WopwGIGbmPSR"
      }
    },
    {
      "cell_type": "code",
      "source": [
        "dropDisDF = preprocessing_data.dropDuplicates([\"review_profilename\",\"beer_beerid\"])\n",
        "print(\"Distinct count of users who rates a beer  : \"+str(dropDisDF.count()))\n",
        "\n"
      ],
      "metadata": {
        "colab": {
          "base_uri": "https://localhost:8080/"
        },
        "id": "9cwqFXIomsUY",
        "outputId": "f4822016-3526-4d6b-bc40-4e3cb2a2fd28"
      },
      "execution_count": null,
      "outputs": [
        {
          "output_type": "stream",
          "name": "stdout",
          "text": [
            "Distinct count of users who rates a beer  : 1571480\n"
          ]
        }
      ]
    },
    {
      "cell_type": "code",
      "source": [
        "print( \"percentage of duplicated is equal to \" + str(((preprocessing_data.count()-dropDisDF.count())/preprocessing_data.count()))+ \"%\")"
      ],
      "metadata": {
        "colab": {
          "base_uri": "https://localhost:8080/"
        },
        "id": "0qdK2ty4p8Ic",
        "outputId": "4410c25e-d417-44d8-b3a6-41087a07e81a"
      },
      "execution_count": null,
      "outputs": [
        {
          "output_type": "stream",
          "name": "stdout",
          "text": [
            "percentage of duplicated is equal to 0.00932126137734781%\n"
          ]
        }
      ]
    },
    {
      "cell_type": "code",
      "source": [
        "preprocessing_data = dropDisDF "
      ],
      "metadata": {
        "id": "fk36ax7qrMLv"
      },
      "execution_count": null,
      "outputs": []
    },
    {
      "cell_type": "markdown",
      "source": [
        "##change columns_profilename with profilenameid & changes the name "
      ],
      "metadata": {
        "id": "Mx3qMITijGgQ"
      }
    },
    {
      "cell_type": "code",
      "source": [
        "from pyspark.ml import Pipeline\n",
        "from pyspark.ml.feature import StringIndexer\n",
        "indexer = StringIndexer(inputCol=\"review_profilename\", outputCol=\"customer_id\").fit(preprocessing_data)\n",
        "full_data = indexer.transform(preprocessing_data)"
      ],
      "metadata": {
        "id": "n6ZiTMDii5Wl"
      },
      "execution_count": null,
      "outputs": []
    },
    {
      "cell_type": "code",
      "source": [
        "full_data.show()"
      ],
      "metadata": {
        "colab": {
          "base_uri": "https://localhost:8080/"
        },
        "id": "aRxp--Idju0I",
        "outputId": "9094f6c9-91f3-4c37-fea3-d6911b24ca46"
      },
      "execution_count": null,
      "outputs": [
        {
          "output_type": "stream",
          "name": "stdout",
          "text": [
            "+------------------+-----------+--------------+--------------------+----------+--------------------+-----------+\n",
            "|review_profilename|beer_beerid|review_overall|          beer_style|brewery_id|           beer_name|customer_id|\n",
            "+------------------+-----------+--------------+--------------------+----------+--------------------+-----------+\n",
            "|          0110x011|        459|           4.5| American Strong Ale|       173|                Fred|     2476.0|\n",
            "|          0110x011|        599|           4.0|      Lambic - Fruit|       187| Lindemans Framboise|     2476.0|\n",
            "|          0110x011|        731|           5.0|          Hefeweizen|       252|Weihenstephaner H...|     2476.0|\n",
            "|          0110x011|       1093|           4.0|        American IPA|       287|     Two Hearted Ale|     2476.0|\n",
            "|          0110x011|       1160|           4.0|Russian Imperial ...|       147|Stone Imperial Ru...|     2476.0|\n",
            "|          0110x011|       1444|           4.0|Russian Imperial ...|       287|Bell's Expedition...|     2476.0|\n",
            "|          0110x011|       1577|           4.0|Fruit / Vegetable...|       590|Wisconsin Belgian...|     2476.0|\n",
            "|          0110x011|       1585|           5.0|Fruit / Vegetable...|       590|      Raspberry Tart|     2476.0|\n",
            "|          0110x011|       1708|           3.5|    Quadrupel (Quad)|       259|St. Bernardus Abt 12|     2476.0|\n",
            "|          0110x011|       1745|           2.0|    Flanders Red Ale|       641|Duchesse De Bourg...|     2476.0|\n",
            "|          0110x011|       1882|           4.0|    Flanders Red Ale|       216|Rodenbach Classic...|     2476.0|\n",
            "|          0110x011|       3833|           4.5|American Double /...|       396|AleSmith Speedway...|     2476.0|\n",
            "|          0110x011|       3916|           5.0|        American IPA|       396|        AleSmith IPA|     2476.0|\n",
            "|          0110x011|       4874|           4.0|       Oatmeal Stout|       583|Schlafly Oatmeal ...|     2476.0|\n",
            "|          0110x011|       6317|           5.0|              Gueuze|      2541|Girardin Gueuze 1...|     2476.0|\n",
            "|          0110x011|       6646|           4.0| American Barleywine|       396|AleSmith Old Numb...|     2476.0|\n",
            "|          0110x011|       7520|           4.0|Russian Imperial ...|        26|Dark Lord Imperia...|     2476.0|\n",
            "|          0110x011|       7597|           5.0|American Double /...|      3120|      Pure Hoppiness|     2476.0|\n",
            "|          0110x011|       7971|           5.0|American Double /...|       863|     Pliny The Elder|     2476.0|\n",
            "|          0110x011|       7978|           4.0|Saison / Farmhous...|       738|Fantôme Saison D'...|     2476.0|\n",
            "+------------------+-----------+--------------+--------------------+----------+--------------------+-----------+\n",
            "only showing top 20 rows\n",
            "\n"
          ]
        }
      ]
    },
    {
      "cell_type": "code",
      "source": [
        "full_data = full_data.withColumnRenamed(\"beer_beerid\",\"beer_id\")\n",
        "full_data = full_data.withColumnRenamed(\"review_overall\",\"rewiew\")\n",
        "full_data.show()"
      ],
      "metadata": {
        "colab": {
          "base_uri": "https://localhost:8080/"
        },
        "id": "Q8dgc2MrkwA1",
        "outputId": "7f256485-0dc6-4131-8f78-b0a924c7643c"
      },
      "execution_count": null,
      "outputs": [
        {
          "output_type": "stream",
          "name": "stdout",
          "text": [
            "+------------------+-------+------+--------------------+----------+--------------------+-----------+\n",
            "|review_profilename|beer_id|rewiew|          beer_style|brewery_id|           beer_name|customer_id|\n",
            "+------------------+-------+------+--------------------+----------+--------------------+-----------+\n",
            "|          0110x011|    459|   4.5| American Strong Ale|       173|                Fred|     2476.0|\n",
            "|          0110x011|    599|   4.0|      Lambic - Fruit|       187| Lindemans Framboise|     2476.0|\n",
            "|          0110x011|    731|   5.0|          Hefeweizen|       252|Weihenstephaner H...|     2476.0|\n",
            "|          0110x011|   1093|   4.0|        American IPA|       287|     Two Hearted Ale|     2476.0|\n",
            "|          0110x011|   1160|   4.0|Russian Imperial ...|       147|Stone Imperial Ru...|     2476.0|\n",
            "|          0110x011|   1444|   4.0|Russian Imperial ...|       287|Bell's Expedition...|     2476.0|\n",
            "|          0110x011|   1577|   4.0|Fruit / Vegetable...|       590|Wisconsin Belgian...|     2476.0|\n",
            "|          0110x011|   1585|   5.0|Fruit / Vegetable...|       590|      Raspberry Tart|     2476.0|\n",
            "|          0110x011|   1708|   3.5|    Quadrupel (Quad)|       259|St. Bernardus Abt 12|     2476.0|\n",
            "|          0110x011|   1745|   2.0|    Flanders Red Ale|       641|Duchesse De Bourg...|     2476.0|\n",
            "|          0110x011|   1882|   4.0|    Flanders Red Ale|       216|Rodenbach Classic...|     2476.0|\n",
            "|          0110x011|   3833|   4.5|American Double /...|       396|AleSmith Speedway...|     2476.0|\n",
            "|          0110x011|   3916|   5.0|        American IPA|       396|        AleSmith IPA|     2476.0|\n",
            "|          0110x011|   4874|   4.0|       Oatmeal Stout|       583|Schlafly Oatmeal ...|     2476.0|\n",
            "|          0110x011|   6317|   5.0|              Gueuze|      2541|Girardin Gueuze 1...|     2476.0|\n",
            "|          0110x011|   6646|   4.0| American Barleywine|       396|AleSmith Old Numb...|     2476.0|\n",
            "|          0110x011|   7520|   4.0|Russian Imperial ...|        26|Dark Lord Imperia...|     2476.0|\n",
            "|          0110x011|   7597|   5.0|American Double /...|      3120|      Pure Hoppiness|     2476.0|\n",
            "|          0110x011|   7971|   5.0|American Double /...|       863|     Pliny The Elder|     2476.0|\n",
            "|          0110x011|   7978|   4.0|Saison / Farmhous...|       738|Fantôme Saison D'...|     2476.0|\n",
            "+------------------+-------+------+--------------------+----------+--------------------+-----------+\n",
            "only showing top 20 rows\n",
            "\n"
          ]
        }
      ]
    },
    {
      "cell_type": "markdown",
      "source": [
        "##Dataset Sparsity \n",
        "This snippet is useful to compute the data sparsity of dataset\n",
        "* Count the number of distinct user_ids and distinct beer_ids\n",
        "\n",
        "* Set the denominator equal to the number of users multiplied by the number of beers\n",
        "\n",
        "* Divide the numerator by the denominator"
      ],
      "metadata": {
        "id": "jrEdkJU8r6J7"
      }
    },
    {
      "cell_type": "code",
      "source": [
        "numerator = full_data.select(\"rewiew\").count()\n",
        "\n",
        "# Count the number of distinct user_ids and distinct beer_ids\n",
        "num_users = full_data.select(\"customer_id\").distinct().count()\n",
        "num_beers = full_data.select(\"beer_id\").distinct().count()\n",
        "\n",
        "# Set the denominator equal to the number of users multiplied by the number of beers\n",
        "denominator = num_users * num_beers\n",
        "\n",
        "# Divide the numerator by the denominator\n",
        "sparsity = (1.0 - (numerator *1.0)/denominator)*100\n",
        "print (\"The review dataframe is\", \"%.2f\" % sparsity + \"% empty.\")"
      ],
      "metadata": {
        "colab": {
          "base_uri": "https://localhost:8080/"
        },
        "id": "0F-kHWZP6UpH",
        "outputId": "1bc3063b-e78c-48a3-d146-521bf1e25616"
      },
      "execution_count": null,
      "outputs": [
        {
          "output_type": "stream",
          "name": "stdout",
          "text": [
            "The review dataframe is 99.93% empty.\n"
          ]
        }
      ]
    },
    {
      "cell_type": "markdown",
      "source": [
        "## Split Train & test dataset "
      ],
      "metadata": {
        "id": "IRDvw0ztp-cq"
      }
    },
    {
      "cell_type": "code",
      "source": [
        "train,test = full_data.randomSplit([0.8,0.2], seed= 42)"
      ],
      "metadata": {
        "id": "-XXICo_Vp368"
      },
      "execution_count": null,
      "outputs": []
    },
    {
      "cell_type": "markdown",
      "source": [
        "#ALS model\n",
        "The alternating least squares (ALS) algorithm factorizes a given matrix R into two factors U and V such that R≈UTV. The unknown row dimension is given as a parameter to the algorithm and is called latent factors. Since matrix factorization can be used in the context of recommendation, the matrices U and V can be called user and item matrix, respectively. \n",
        "\n",
        "* ALS iteratively aims to minimize loss function applyng Gradient descent\n",
        "\n",
        "* Resolve problems for sparse matrix used in recommender system\n"
      ],
      "metadata": {
        "id": "TJarnnQlqFGn"
      }
    },
    {
      "cell_type": "code",
      "source": [
        "from pyspark.ml.recommendation import ALS\n",
        "# Build the recommendation model using ALS on the training data\n",
        "als = ALS(maxIter=5, regParam=0.01, userCol=\"customer_id\", itemCol=\"beer_id\", ratingCol=\"rewiew\", coldStartStrategy=\"drop\")\n",
        "model = als.fit(train)"
      ],
      "metadata": {
        "id": "TvvPjbNdpcvo"
      },
      "execution_count": null,
      "outputs": []
    },
    {
      "cell_type": "code",
      "source": [
        "predictions =  model.transform(test)\n",
        "predictions.show()\n"
      ],
      "metadata": {
        "colab": {
          "base_uri": "https://localhost:8080/"
        },
        "id": "53G09IITqRsr",
        "outputId": "9d3ee4e6-34be-4856-b37d-41fc0e1f01c0"
      },
      "execution_count": null,
      "outputs": [
        {
          "output_type": "stream",
          "name": "stdout",
          "text": [
            "+------------------+-------+------+--------------------+----------+--------------------+-----------+----------+\n",
            "|review_profilename|beer_id|rewiew|          beer_style|brewery_id|           beer_name|customer_id|prediction|\n",
            "+------------------+-------+------+--------------------+----------+--------------------+-----------+----------+\n",
            "|         Andouille|  56973|   4.0|       Oatmeal Stout|       132|Shakespeare Oatme...|    18911.0|  4.641945|\n",
            "|        BeerDonkey|   2479|   3.0|  Flanders Oud Bruin|       718|    Petrus Oud Bruin|    10206.0|  4.137655|\n",
            "|    BeerLover48Fan|    142|   5.0|              Dubbel|        42|Ommegang (Abbey Ale)|     5156.0| 4.8789945|\n",
            "|    BeerLover48Fan|    582|   5.0|Märzen / Oktoberfest|       142|Spaten Oktoberfes...|     5156.0| 4.8307056|\n",
            "|    BeerLover48Fan|   1904|   4.0|        American IPA|       140|Sierra Nevada Cel...|     5156.0| 5.0751038|\n",
            "|    BeerLover48Fan|   2093|   5.0|American Double /...|     10099|       90 Minute IPA|     5156.0| 4.7896914|\n",
            "|    BeerLover48Fan|   4108|   4.0|     German Pilsener|       694|Tröegs Sunshine Pils|     5156.0|  4.940087|\n",
            "|    BeerLover48Fan|  15881|   5.0|American Amber / ...|       694|Tröegs Nugget Nectar|     5156.0|  5.098565|\n",
            "|    BeerLover48Fan|  17377|   5.0|    English Pale Ale|        20|    Green Monsta Ale|     5156.0|  5.306347|\n",
            "|      Beerinabelle|  44910|   5.0|  Lambic - Unblended|     15237|         Dirty Horse|    13623.0|   4.95955|\n",
            "|      BuddyNuggsTX|    837|   5.0|         Light Lager|       306|         Coors Light|    16574.0|  2.658817|\n",
            "|        ChappyBrew|   1727|   2.0|American Adjunct ...|       447|           Old Style|     8086.0| 3.0479596|\n",
            "|        ChappyBrew|   2940|   3.0|     Euro Dark Lager|       710|Leinenkugel's Cre...|     8086.0| 3.7152612|\n",
            "|        ChappyBrew|   4161|   4.5|       Winter Warmer|       273|Sweetwater Festiv...|     8086.0| 3.8951986|\n",
            "|            Crowls|  30149|   3.5| Munich Helles Lager|      6143|    Moosbacher Lager|     7880.0| 3.2486615|\n",
            "|               DT7|   1798|   3.5|    English Pale Ale|       655| Boddingtons Pub Ale|     9465.0| 3.4889297|\n",
            "|      DrinkThemAll|   7971|   4.5|American Double /...|       863|     Pliny The Elder|     6357.0|  3.959055|\n",
            "|      DrinkThemAll|  70102|   4.5|     American Porter|        63|   Black Butte XXIII|     6357.0| 3.8452892|\n",
            "|      DrinkThemAll|  71405|   3.0|  Milk / Sweet Stout|       147|Jason Fields & Ke...|     6357.0| 2.9213464|\n",
            "|      FourQuarters|  56428|   3.0|Saison / Farmhous...|      1339|  Urthel Saisonnière|    11317.0| 2.7577665|\n",
            "+------------------+-------+------+--------------------+----------+--------------------+-----------+----------+\n",
            "only showing top 20 rows\n",
            "\n"
          ]
        }
      ]
    },
    {
      "cell_type": "code",
      "source": [
        ""
      ],
      "metadata": {
        "id": "5Um_U1XlZKXx"
      },
      "execution_count": null,
      "outputs": []
    },
    {
      "cell_type": "markdown",
      "source": [
        "## Model Performance RMSE \n",
        "\n",
        "A metric that tells the square root of the average squared difference between the predicted values and the actual values in a dataset. The lower the RMSE, the better a model fits a dataset.\n",
        "t is calculated as:\n",
        "\n",
        "## RMSE = √Σ(ŷi – yi)2 / n\n",
        "\n",
        "where:\n",
        "\n",
        "* Σ is a symbol that means “sum”\n",
        "* ŷi is the predicted value for the ith observation\n",
        "* yi is the observed value for the ith observation\n",
        "* n is the sample size"
      ],
      "metadata": {
        "id": "DagX_QJWqUzy"
      }
    },
    {
      "cell_type": "code",
      "source": [
        "from pyspark.ml.evaluation import RegressionEvaluator\n",
        "\n",
        "evaluator = RegressionEvaluator(metricName=\"rmse\", labelCol=\"rewiew\", predictionCol=\"prediction\")\n",
        "rmse = evaluator.evaluate(predictions)\n",
        "\n",
        "print(\"Root Mean Squared Error = {:.5f}\".format(rmse))"
      ],
      "metadata": {
        "colab": {
          "base_uri": "https://localhost:8080/"
        },
        "id": "kwKZDO3Dqblp",
        "outputId": "887734ea-5574-49b2-8c18-af7732aef870"
      },
      "execution_count": null,
      "outputs": [
        {
          "output_type": "stream",
          "name": "stdout",
          "text": [
            "Root Mean Squared Error = 0.70886\n"
          ]
        }
      ]
    },
    {
      "cell_type": "markdown",
      "source": [
        "## Hyperparameter Tunings\n",
        "The following parameters in the ALS are to be tuned:\n",
        "* numBlocks is the number of blocks the users and items will be partitioned into in order to parallelize computation (defaults to 10).\n",
        "\n",
        "* rank is the number of latent factors in the model (defaults to 10).\n",
        "\n",
        "* maxIter is the maximum number of iterations to run (defaults to 10).\n",
        "\n",
        "* regParam specifies the regularization parameter in ALS (defaults to 1.0).\n",
        "\n",
        "* alpha is a parameter applicable to the implicit feedback variant of ALS that governs the baseline confidence in preference observations (defaults to 1.0).\n",
        "\n"
      ],
      "metadata": {
        "id": "8wVbqJMLq_yJ"
      }
    },
    {
      "cell_type": "markdown",
      "source": [
        "K-fold cross-validation uses the following approach to evaluate a model:\n",
        "\n",
        "* Step 1: Randomly divide a dataset into k groups, or “folds”, of roughly equal size.\n",
        "\n",
        "* Choose one of the folds to be the holdout set. Fit the model on the remaining k-1 folds. Calculate the test RMSE on the observations in the fold that was held out. Repeat this process *K-time*.\n",
        "* Calculate the overall test RMSE to be the average of the k test RMSE’s."
      ],
      "metadata": {
        "id": "i7S1dDLgl861"
      }
    },
    {
      "cell_type": "code",
      "source": [
        "# This function defines the general pipeline for logistic regression\n",
        "def matrix_factorization(train, k_fold=5):\n",
        "\n",
        "    from pyspark.ml.recommendation import ALS\n",
        "    from pyspark.ml.tuning import CrossValidator, ParamGridBuilder\n",
        "    from pyspark.ml.evaluation import RegressionEvaluator\n",
        "    from pyspark.ml import Pipeline\n",
        "\n",
        "    als = ALS(userCol=\"customer_id\", itemCol=\"beer_id\", ratingCol=\"rewiew\", coldStartStrategy=\"drop\")\n",
        "\n",
        "    #pipeline = Pipeline(stages=stages)\n",
        "\n",
        "    # We use a ParamGridBuilder to construct a grid of parameters to search over.\n",
        "    # A CrossValidator requires an Estimator, a set of Estimator ParamMaps, and an Evaluator.\n",
        "    # We use a ParamGridBuilder to construct a grid of parameters to search over.\n",
        "    # With 2 values for als.rank, 2 values for als.regParam, and 1 value for als.maxIter,\n",
        "    # this grid will have 2 x 2 x 1 = 4 parameter settings for CrossValidator to choose from.\n",
        "    param_grid = ParamGridBuilder()\\\n",
        "    .addGrid(als.rank, [10, 25]) \\\n",
        "    .addGrid(als.regParam, [0.01, 0.1]) \\\n",
        "    .addGrid(als.maxIter, [10]) \\\n",
        "    .build()\n",
        "    \n",
        "    cross_val = CrossValidator(estimator=als, \n",
        "                               estimatorParamMaps=param_grid,\n",
        "                               evaluator=RegressionEvaluator(metricName=\"rmse\", labelCol=\"rewiew\", predictionCol=\"prediction\"),\n",
        "                               numFolds=k_fold,\n",
        "                               collectSubModels=True # this flag allows us to store ALL the models trained during k-fold cross validation\n",
        "                               )\n",
        "\n",
        "    # Run cross-validation, and choose the best set of parameters.\n",
        "    cv_model = cross_val.fit(train)\n",
        "\n",
        "    return cv_model"
      ],
      "metadata": {
        "id": "GaTCteQQrCup"
      },
      "execution_count": null,
      "outputs": []
    },
    {
      "cell_type": "code",
      "source": [
        "cv_model = matrix_factorization(train)"
      ],
      "metadata": {
        "id": "E0xL2_dZrRLW"
      },
      "execution_count": null,
      "outputs": []
    },
    {
      "cell_type": "code",
      "source": [
        "# This function summarizes all the models trained during k-fold cross validation\n",
        "def summarize_all_models(cv_models):\n",
        "    for k, models in enumerate(cv_models):\n",
        "        print(\"*************** Fold #{:d} ***************\\n\".format(k+1))\n",
        "        for i, m in enumerate(models):\n",
        "            print(\"--- Model #{:d} out of {:d} ---\".format(i+1, len(models)))\n",
        "            print(\"\\tParameters: rank=[{:d}]\".format(m.rank))\n",
        "            print(\"\\tModel summary: {}\\n\".format(m))\n",
        "        print(\"***************************************\\n\")\n",
        "summarize_all_models(cv_model.subModels)"
      ],
      "metadata": {
        "id": "RCj5BCh4rTqt",
        "colab": {
          "base_uri": "https://localhost:8080/"
        },
        "outputId": "7b3f7292-0ea0-430d-a86f-f8dd5ef7fd0f"
      },
      "execution_count": null,
      "outputs": [
        {
          "output_type": "stream",
          "name": "stdout",
          "text": [
            "*************** Fold #1 ***************\n",
            "\n",
            "--- Model #1 out of 4 ---\n",
            "\tParameters: rank=[10]\n",
            "\tModel summary: ALSModel: uid=ALS_7758815b4930, rank=10\n",
            "\n",
            "--- Model #2 out of 4 ---\n",
            "\tParameters: rank=[10]\n",
            "\tModel summary: ALSModel: uid=ALS_7758815b4930, rank=10\n",
            "\n",
            "--- Model #3 out of 4 ---\n",
            "\tParameters: rank=[25]\n",
            "\tModel summary: ALSModel: uid=ALS_7758815b4930, rank=25\n",
            "\n",
            "--- Model #4 out of 4 ---\n",
            "\tParameters: rank=[25]\n",
            "\tModel summary: ALSModel: uid=ALS_7758815b4930, rank=25\n",
            "\n",
            "***************************************\n",
            "\n",
            "*************** Fold #2 ***************\n",
            "\n",
            "--- Model #1 out of 4 ---\n",
            "\tParameters: rank=[10]\n",
            "\tModel summary: ALSModel: uid=ALS_7758815b4930, rank=10\n",
            "\n",
            "--- Model #2 out of 4 ---\n",
            "\tParameters: rank=[10]\n",
            "\tModel summary: ALSModel: uid=ALS_7758815b4930, rank=10\n",
            "\n",
            "--- Model #3 out of 4 ---\n",
            "\tParameters: rank=[25]\n",
            "\tModel summary: ALSModel: uid=ALS_7758815b4930, rank=25\n",
            "\n",
            "--- Model #4 out of 4 ---\n",
            "\tParameters: rank=[25]\n",
            "\tModel summary: ALSModel: uid=ALS_7758815b4930, rank=25\n",
            "\n",
            "***************************************\n",
            "\n",
            "*************** Fold #3 ***************\n",
            "\n",
            "--- Model #1 out of 4 ---\n",
            "\tParameters: rank=[10]\n",
            "\tModel summary: ALSModel: uid=ALS_7758815b4930, rank=10\n",
            "\n",
            "--- Model #2 out of 4 ---\n",
            "\tParameters: rank=[10]\n",
            "\tModel summary: ALSModel: uid=ALS_7758815b4930, rank=10\n",
            "\n",
            "--- Model #3 out of 4 ---\n",
            "\tParameters: rank=[25]\n",
            "\tModel summary: ALSModel: uid=ALS_7758815b4930, rank=25\n",
            "\n",
            "--- Model #4 out of 4 ---\n",
            "\tParameters: rank=[25]\n",
            "\tModel summary: ALSModel: uid=ALS_7758815b4930, rank=25\n",
            "\n",
            "***************************************\n",
            "\n",
            "*************** Fold #4 ***************\n",
            "\n",
            "--- Model #1 out of 4 ---\n",
            "\tParameters: rank=[10]\n",
            "\tModel summary: ALSModel: uid=ALS_7758815b4930, rank=10\n",
            "\n",
            "--- Model #2 out of 4 ---\n",
            "\tParameters: rank=[10]\n",
            "\tModel summary: ALSModel: uid=ALS_7758815b4930, rank=10\n",
            "\n",
            "--- Model #3 out of 4 ---\n",
            "\tParameters: rank=[25]\n",
            "\tModel summary: ALSModel: uid=ALS_7758815b4930, rank=25\n",
            "\n",
            "--- Model #4 out of 4 ---\n",
            "\tParameters: rank=[25]\n",
            "\tModel summary: ALSModel: uid=ALS_7758815b4930, rank=25\n",
            "\n",
            "***************************************\n",
            "\n",
            "*************** Fold #5 ***************\n",
            "\n",
            "--- Model #1 out of 4 ---\n",
            "\tParameters: rank=[10]\n",
            "\tModel summary: ALSModel: uid=ALS_7758815b4930, rank=10\n",
            "\n",
            "--- Model #2 out of 4 ---\n",
            "\tParameters: rank=[10]\n",
            "\tModel summary: ALSModel: uid=ALS_7758815b4930, rank=10\n",
            "\n",
            "--- Model #3 out of 4 ---\n",
            "\tParameters: rank=[25]\n",
            "\tModel summary: ALSModel: uid=ALS_7758815b4930, rank=25\n",
            "\n",
            "--- Model #4 out of 4 ---\n",
            "\tParameters: rank=[25]\n",
            "\tModel summary: ALSModel: uid=ALS_7758815b4930, rank=25\n",
            "\n",
            "***************************************\n",
            "\n"
          ]
        }
      ]
    },
    {
      "cell_type": "code",
      "source": [
        "for i, avg_rmse in enumerate(cv_model.avgMetrics):\n",
        "    print(\"Avg. RMSE computed across k-fold cross validation for model setting #{:d}: {:.3f}\".format(i+1, avg_rmse))"
      ],
      "metadata": {
        "id": "kn_cW_uYrZZX",
        "colab": {
          "base_uri": "https://localhost:8080/"
        },
        "outputId": "159fe2d3-5b41-4405-ddc6-203d8930e484"
      },
      "execution_count": null,
      "outputs": [
        {
          "output_type": "stream",
          "name": "stdout",
          "text": [
            "Avg. RMSE computed across k-fold cross validation for model setting #1: 0.726\n",
            "Avg. RMSE computed across k-fold cross validation for model setting #2: 0.628\n",
            "Avg. RMSE computed across k-fold cross validation for model setting #3: 0.767\n",
            "Avg. RMSE computed across k-fold cross validation for model setting #4: 0.629\n"
          ]
        }
      ]
    },
    {
      "cell_type": "code",
      "source": [
        "print(\"Best model according to k-fold cross validation: rank=[{:d}]\".\n",
        "      format(cv_model.bestModel.rank)\n",
        "      )\n",
        "print(cv_model.bestModel)"
      ],
      "metadata": {
        "id": "fG_lwIp4rcHX",
        "colab": {
          "base_uri": "https://localhost:8080/"
        },
        "outputId": "bdb13224-c2d4-4910-c64d-6e99490e5451"
      },
      "execution_count": null,
      "outputs": [
        {
          "output_type": "stream",
          "name": "stdout",
          "text": [
            "Best model according to k-fold cross validation: rank=[10]\n",
            "ALSModel: uid=ALS_7758815b4930, rank=10\n"
          ]
        }
      ]
    },
    {
      "cell_type": "markdown",
      "source": [
        ""
      ],
      "metadata": {
        "id": "pFB7JeO83307"
      }
    },
    {
      "cell_type": "markdown",
      "source": [
        "## Using the best model for making prediction"
      ],
      "metadata": {
        "id": "Ytuos6NS34SQ"
      }
    },
    {
      "cell_type": "code",
      "source": [
        "test_predictions = cv_model.transform(test)"
      ],
      "metadata": {
        "id": "BsCFUG_LrjaU"
      },
      "execution_count": null,
      "outputs": []
    },
    {
      "cell_type": "code",
      "source": [
        "def evaluate_model(predictions, metric=\"rmse\", labelCol=\"rewiew\", predictionCol=\"prediction\"):\n",
        "    \n",
        "    from pyspark.ml.evaluation import RegressionEvaluator\n",
        "\n",
        "    evaluator = RegressionEvaluator(metricName=metric, labelCol=labelCol, predictionCol=predictionCol)\n",
        "\n",
        "    return evaluator.evaluate(predictions)"
      ],
      "metadata": {
        "id": "OqiOndO534SR"
      },
      "execution_count": null,
      "outputs": []
    },
    {
      "cell_type": "code",
      "source": [
        "print(\"***** Test Set *****\")\n",
        "print(\"RMSE: {:.3f}\".format(evaluate_model(test_predictions)))\n",
        "print(\"***** Test Set *****\")"
      ],
      "metadata": {
        "colab": {
          "base_uri": "https://localhost:8080/"
        },
        "outputId": "2048a6c6-b12c-4ff1-80ad-588411273a57",
        "id": "Yn3ZGrto34SR"
      },
      "execution_count": null,
      "outputs": [
        {
          "output_type": "stream",
          "name": "stdout",
          "text": [
            "***** Test Set *****\n",
            "RMSE: 0.623\n",
            "***** Test Set *****\n"
          ]
        }
      ]
    },
    {
      "cell_type": "code",
      "source": [
        "k = 3 # number of recommended items for each user\n",
        "user_recs = cv_model.bestModel.recommendForAllUsers(k).show(10, truncate=False)"
      ],
      "metadata": {
        "colab": {
          "base_uri": "https://localhost:8080/"
        },
        "outputId": "e02eabe0-a642-4a2a-a2a4-841051fa58c4",
        "id": "v2UaVY0z34SR"
      },
      "execution_count": null,
      "outputs": [
        {
          "output_type": "stream",
          "name": "stdout",
          "text": [
            "+-----------+------------------------------------------------------------+\n",
            "|customer_id|recommendations                                             |\n",
            "+-----------+------------------------------------------------------------+\n",
            "|1          |[{32744, 5.1831594}, {57390, 5.1072206}, {54487, 5.1072206}]|\n",
            "|3          |[{32744, 4.8542604}, {76583, 4.8516307}, {76354, 4.82481}]  |\n",
            "|5          |[{42941, 4.832765}, {49042, 4.832765}, {32744, 4.824262}]   |\n",
            "|6          |[{36166, 5.642617}, {32744, 5.6065693}, {57390, 5.6059413}] |\n",
            "|9          |[{67475, 5.3768897}, {32744, 5.2639384}, {36166, 5.1716757}]|\n",
            "|12         |[{32744, 4.7717056}, {76354, 4.692589}, {42941, 4.685628}]  |\n",
            "|13         |[{32744, 5.1486087}, {57390, 5.071283}, {54487, 5.071283}]  |\n",
            "|15         |[{32744, 5.1798725}, {67475, 5.1036134}, {68290, 5.0854473}]|\n",
            "|16         |[{32744, 5.3919373}, {57390, 5.365408}, {54487, 5.365408}]  |\n",
            "|17         |[{54487, 5.2256145}, {57390, 5.2256145}, {58479, 5.2256145}]|\n",
            "+-----------+------------------------------------------------------------+\n",
            "only showing top 10 rows\n",
            "\n"
          ]
        }
      ]
    },
    {
      "cell_type": "markdown",
      "source": [
        "*testo in corsivo*#Precision and recall at 10 \n",
        "\n"
      ],
      "metadata": {
        "id": "gEFYV4-B34SS"
      }
    },
    {
      "cell_type": "markdown",
      "source": [
        "## Model Performance MAE\n",
        "\n",
        "## MAE = 1/n * Σ|yi – ŷi|\n",
        "\n",
        "where:\n",
        "\n",
        "* Σ is a symbol that means “sum”\n",
        "* yi is the observed value for the ith observation\n",
        "* ŷi is the predicted value for the ith observation\n",
        "* n is the sample size\n",
        "\n",
        "##Error = Actual observation – predicted observation\n",
        "When you get all the errors, you will realize that some errors are positive, and others are negative We areTreating the positive and negative errors observed as absolute.\n",
        "\n",
        "Getting the Average (Mean) of the absolute errors\n",
        "This involves adding all the errors and dividing with the total number of observations.\n",
        "\n",
        "As much as MAE takes care of all the errors across the predicted values, it gives all the errors the same weight. This means missing the right prediction by 5 is as bad as missing the right prediction by 1.\n",
        "That is not very good in many situations.\n",
        "\n",
        "\n"
      ],
      "metadata": {
        "id": "9DhT8S5l3sJj"
      }
    },
    {
      "cell_type": "code",
      "source": [
        "evaluator = RegressionEvaluator(metricName=\"mae\", labelCol=\"rewiew\", predictionCol=\"prediction\")\n",
        "mae = evaluator.evaluate(test_predictions)\n",
        "\n",
        "print(\"Mean Absolute Error = {:.5f}\".format(mae))"
      ],
      "metadata": {
        "colab": {
          "base_uri": "https://localhost:8080/"
        },
        "outputId": "30b8e2a8-782c-4d4f-9252-e2979f3804d4",
        "id": "maF1yz9v3sJq"
      },
      "execution_count": null,
      "outputs": [
        {
          "output_type": "stream",
          "name": "stdout",
          "text": [
            "Mean Absolute Error = 0.47377\n"
          ]
        }
      ]
    },
    {
      "cell_type": "markdown",
      "source": [
        "## Model performance MSE\n",
        "## MSE = Σ(ŷi – yi)2 / n\n",
        "\n",
        "where:\n",
        "\n",
        "* Σ is a symbol that means “sum”\n",
        "* ŷi  is the predicted value for the ith observation\n",
        "* yi is the observed value for the ith observation\n",
        "* n is the sample size\n",
        "\n",
        "The closer the model predictions are to the observations, the smaller the MSE will be.\n",
        "The test MSE gives us an idea of how well a model will perform on data it hasn’t previously seen. However, the drawback of using only one testing set is that the test MSE can vary greatly depending on which observations were used in the training and testing sets.\n",
        "One way to avoid this problem is to fit a model several times using a different training and testing set each time, then calculating the test MSE to be the average of all of the test MSE’s.\n",
        "This general method is known as cross-validation and a specific form of it is known as *k-fold cross-validation*.\n",
        "\n",
        "When assessing how well a model fits a dataset, we use the RMSE more often because it is measured in the same units as the response variable.\n",
        "Conversely, the MSE is measured in squared units of the response variable.\n",
        "Note that we can also compare the MSE values of each model, but RMSE is more straightforward to interpret so it’s used more often.\n",
        "\n"
      ],
      "metadata": {
        "id": "QvusU-CV4dGE"
      }
    },
    {
      "cell_type": "code",
      "source": [
        "evaluator = RegressionEvaluator(metricName=\"mse\", labelCol=\"rewiew\", predictionCol=\"prediction\")\n",
        "mse = evaluator.evaluate(test_predictions)\n",
        "\n",
        "print(\"Mean Squared Error = {:.5f}\".format(mse))"
      ],
      "metadata": {
        "colab": {
          "base_uri": "https://localhost:8080/"
        },
        "outputId": "2cf438e7-3f95-493a-f8c2-8aa0901bd46b",
        "id": "XpcVrfKa4dGF"
      },
      "execution_count": null,
      "outputs": [
        {
          "output_type": "stream",
          "name": "stdout",
          "text": [
            "Mean Squared Error = 0.38770\n"
          ]
        }
      ]
    },
    {
      "cell_type": "markdown",
      "source": [
        "## precision & recall\n",
        "\n",
        "Precision and Recall is another important evaluations methods.\n",
        "I have to  classify all score and predictions as relevant or irrelevant.\n",
        "\n",
        "Precision is percentage of positive identifications that was actually correct?\n",
        "##Precision = TP/(TP+FP)\n",
        "\n",
        "Recall is the percentage of actual positives identified correctly\n",
        "## Recall = TP/(TP+FN)\n",
        "\n",
        "I decided to put the treshold for relevant ratings fixed to 3, while each iteration I'll change the treshold for predictions from 1 to 5.\n",
        "the following function give me two list.\n",
        "Each element correspond to a new itration.\n",
        "\n",
        "\n"
      ],
      "metadata": {
        "id": "gi3f4Rb1irAr"
      }
    },
    {
      "cell_type": "code",
      "source": [
        "def precall(treshold):\n",
        "    TP = 0\n",
        "    TN = 0\n",
        "    FP = 0\n",
        "    FN = 0\n",
        "    tresh2 = 4\n",
        "    for raw in test_predictions.collect() :\n",
        "      if raw[\"rewiew\"] >= tresh2 and raw[\"prediction\"] >= treshold :\n",
        "        TP = TP +1 \n",
        "      if raw[\"rewiew\"] < tresh2 and raw[\"prediction\"] < treshold :\n",
        "        TN = TN +1 \n",
        "      if raw[\"rewiew\"] < tresh2 and raw[\"prediction\"] >= treshold :\n",
        "        FP = FP +1\n",
        "      if raw[\"rewiew\"] >= tresh2 and raw[\"prediction\"] < treshold :\n",
        "        FN = FN +1 \n",
        "    Precision = TP/(TP+FP)\n",
        "    Recall = TP/(TP+FN)\n",
        "\n",
        "    return(Precision,Recall)"
      ],
      "metadata": {
        "id": "pz62R2Y9ip70"
      },
      "execution_count": null,
      "outputs": []
    },
    {
      "cell_type": "code",
      "source": [
        "lista = []\n",
        "th = [3,3.5,4,4.5,5]\n",
        "for i in th :\n",
        "  print(i)\n",
        "  print(precall(i))\n",
        "  lista.append(precall(i))"
      ],
      "metadata": {
        "colab": {
          "base_uri": "https://localhost:8080/"
        },
        "id": "ksbrH7j7jI2i",
        "outputId": "6517d284-fe8d-46a5-9228-9399e23eb9cf"
      },
      "execution_count": null,
      "outputs": [
        {
          "output_type": "stream",
          "name": "stdout",
          "text": [
            "3\n",
            "(0.6635298257962344, 0.9800804682545459)\n",
            "3.5\n",
            "(0.7387702127281294, 0.8639940948361006)\n",
            "4\n",
            "(0.8942155185818691, 0.2989333277885785)\n",
            "4.5\n",
            "(0.9342706502636204, 0.013816835954962728)\n",
            "5\n",
            "(0.9354838709677419, 0.0006029920883279446)\n"
          ]
        }
      ]
    },
    {
      "cell_type": "code",
      "source": [
        "precision = []\n",
        "recall = []\n",
        "for x in lista : \n",
        "  precision.append(x[0])\n",
        "  recall.append(x[1])\n",
        "print(precision,recall)"
      ],
      "metadata": {
        "colab": {
          "base_uri": "https://localhost:8080/"
        },
        "id": "OtrVR-G8j4dC",
        "outputId": "f6858132-3b25-4e7c-a59e-d58dbd8575ca"
      },
      "execution_count": null,
      "outputs": [
        {
          "output_type": "stream",
          "name": "stdout",
          "text": [
            "[0.6635298257962344, 0.7387702127281294, 0.8942155185818691, 0.9342706502636204, 0.9354838709677419] [0.9800804682545459, 0.8639940948361006, 0.2989333277885785, 0.013816835954962728, 0.0006029920883279446]\n"
          ]
        }
      ]
    },
    {
      "cell_type": "markdown",
      "source": [
        "Plot the two list : Recall and Precision "
      ],
      "metadata": {
        "id": "fd_Ow-R27z0P"
      }
    },
    {
      "cell_type": "code",
      "source": [
        "plt.xlabel('recall')\n",
        "plt.ylabel('precision')\n",
        "print(recall)\n",
        "plt.plot(precision,recall)\n",
        "plt.show"
      ],
      "metadata": {
        "colab": {
          "base_uri": "https://localhost:8080/",
          "height": 315
        },
        "id": "W_uL-E6RkLqy",
        "outputId": "2c0e8f42-bd17-4eaa-a0af-964f67cd6d24"
      },
      "execution_count": null,
      "outputs": [
        {
          "output_type": "stream",
          "name": "stdout",
          "text": [
            "[0.9800804682545459, 0.8639940948361006, 0.2989333277885785, 0.013816835954962728, 0.0006029920883279446]\n"
          ]
        },
        {
          "output_type": "execute_result",
          "data": {
            "text/plain": [
              "<function matplotlib.pyplot.show>"
            ]
          },
          "metadata": {},
          "execution_count": 39
        },
        {
          "output_type": "display_data",
          "data": {
            "text/plain": [
              "<Figure size 432x288 with 1 Axes>"
            ],
            "image/png": "[encoded data removed]"
          },
          "metadata": {
            "needs_background": "light"
          }
        }
      ]
    },
    {
      "cell_type": "code",
      "source": [
        "test_predictions.select(\"customer_id\", \"beer_id\", \"rewiew\", \"prediction\").show(5)"
      ],
      "metadata": {
        "id": "UpN0eB2SrlqA",
        "colab": {
          "base_uri": "https://localhost:8080/"
        },
        "outputId": "f17b647b-deac-476e-ecb4-b0e99657d59e"
      },
      "execution_count": null,
      "outputs": [
        {
          "output_type": "stream",
          "name": "stdout",
          "text": [
            "+-----------+-------+------+----------+\n",
            "|customer_id|beer_id|rewiew|prediction|\n",
            "+-----------+-------+------+----------+\n",
            "|    18911.0|  56973|   4.0|  4.507805|\n",
            "|    10206.0|   2479|   3.0| 4.0792723|\n",
            "|     5156.0|    142|   5.0|  4.827548|\n",
            "|     5156.0|    582|   5.0|  4.525479|\n",
            "|     5156.0|   1904|   4.0|   5.00798|\n",
            "+-----------+-------+------+----------+\n",
            "only showing top 5 rows\n",
            "\n"
          ]
        }
      ]
    },
    {
      "cell_type": "markdown",
      "source": [
        "# Single value decomposition\n",
        "\n",
        "Singular Value Decomposition (SVD) is based on a well known matrix factorization method which takes an m × n matrix A, and decomposes it as follows A = UsV. In collaborative filtering U e V raprensent Users and Items. And the Rij is also given by Inner product. S , called the singular matrix, is an m ×ndiagonal matrix whose diagonal entries are non-negative real number. Singular-Value Decomposition is a matrix decomposition method for reducing a matrix to its constituent parts in order to make certain subsequent matrix calculations simpler.\n",
        "\n",
        "Difference with ALS and SVD\n",
        "ALS iteratively alternate between optimizing U and fixing V and vice versa. It is an iterative optimization process where we for every iteration try to arrive closer and closer to a factorized representation of our original data.\n",
        "\n",
        "Singular-Value Decomposition is a matrix decomposition method for reducing a matrix to its constituent parts in order to make certain subsequent matrix calculations simpler.\n",
        "\n",
        "The SVD has some problems. It is not scalable and it suffer of missing values (sparcity). With the amount of data volume today, performance quickly degrades. ALS allow to Train a machine learning model on several machines, creating a network or cluster of machines: distributed computing."
      ],
      "metadata": {
        "id": "yjx_5UibzuJH"
      }
    },
    {
      "cell_type": "code",
      "source": [
        "#import surprise and SVD to build the model\n",
        "!pip install Surprise\n",
        "from surprise import SVD\n",
        "from surprise import Dataset\n",
        "from surprise.model_selection import cross_validate\n",
        "from surprise import Reader"
      ],
      "metadata": {
        "colab": {
          "base_uri": "https://localhost:8080/"
        },
        "id": "bMDEiIEq0A_c",
        "outputId": "6c177781-8f4f-49c1-fb5e-e9d382e75d7c"
      },
      "execution_count": null,
      "outputs": [
        {
          "output_type": "stream",
          "name": "stdout",
          "text": [
            "Looking in indexes: https://pypi.org/simple, https://us-python.pkg.dev/colab-wheels/public/simple/\n",
            "Requirement already satisfied: Surprise in /usr/local/lib/python3.7/dist-packages (0.1)\n",
            "Requirement already satisfied: scikit-surprise in /usr/local/lib/python3.7/dist-packages (from Surprise) (1.1.1)\n",
            "Requirement already satisfied: scipy>=1.0.0 in /usr/local/lib/python3.7/dist-packages (from scikit-surprise->Surprise) (1.4.1)\n",
            "Requirement already satisfied: joblib>=0.11 in /usr/local/lib/python3.7/dist-packages (from scikit-surprise->Surprise) (1.1.0)\n",
            "Requirement already satisfied: numpy>=1.11.2 in /usr/local/lib/python3.7/dist-packages (from scikit-surprise->Surprise) (1.21.6)\n",
            "Requirement already satisfied: six>=1.10.0 in /usr/local/lib/python3.7/dist-packages (from scikit-surprise->Surprise) (1.15.0)\n"
          ]
        }
      ]
    },
    {
      "cell_type": "code",
      "source": [
        "import requests\n",
        "import pandas as pd\n",
        "import numpy as np\n",
        "import matplotlib.pyplot as plt\n",
        "import seaborn as sns\n",
        "%matplotlib inline\n",
        "reader = Reader()\n",
        "#full_data = full_data.toPandas()\n",
        "#data = Dataset.load_from_df(full_data[['customer_id', 'beer_id', 'rewiew']], reader)"
      ],
      "metadata": {
        "id": "9OOXWGpP0LEt"
      },
      "execution_count": null,
      "outputs": []
    },
    {
      "cell_type": "code",
      "source": [
        "full_data = full_data.toPandas()\n",
        "data = Dataset.load_from_df(full_data[['customer_id', 'beer_id', 'rewiew']], reader)"
      ],
      "metadata": {
        "id": "EeCxMo_UCQjd"
      },
      "execution_count": null,
      "outputs": []
    },
    {
      "cell_type": "markdown",
      "source": [
        "## Cross Validation RMSE, MAE\n",
        "K-fold cross-validation uses the following approach to evaluate a model:\n",
        "\n",
        "* Step 1: Randomly divide a dataset into k groups, or “folds”, of roughly equal size.\n",
        "\n",
        "* Choose one of the folds to be the holdout set. Fit the model on the remaining k-1 folds. Calculate the test RMSE-MSE on the observations in the fold that was held out. Repeat this process *K-time*.\n",
        "* Calculate the overall test RMSE-MSE to be the average of the k test RMSE’s."
      ],
      "metadata": {
        "id": "a36LiJi72313"
      }
    },
    {
      "cell_type": "code",
      "source": [
        "svd = SVD()\n",
        "cross_validate(svd, data, measures=['RMSE', 'MAE'], cv=5, verbose=True)"
      ],
      "metadata": {
        "colab": {
          "base_uri": "https://localhost:8080/"
        },
        "id": "0lLDH5K020qV",
        "outputId": "581f475e-92f8-4ecc-8e52-318d4a132d6b"
      },
      "execution_count": null,
      "outputs": [
        {
          "output_type": "stream",
          "name": "stdout",
          "text": [
            "Evaluating RMSE, MAE of algorithm SVD on 5 split(s).\n",
            "\n",
            "                  Fold 1  Fold 2  Fold 3  Fold 4  Fold 5  Mean    Std     \n",
            "RMSE (testset)    0.6090  0.6101  0.6074  0.6063  0.6095  0.6085  0.0014  \n",
            "MAE (testset)     0.4556  0.4568  0.4544  0.4539  0.4562  0.4554  0.0011  \n",
            "Fit time          87.76   87.94   88.55   86.64   87.70   87.72   0.62    \n",
            "Test time         3.08    4.35    5.10    4.77    5.06    4.47    0.75    \n"
          ]
        },
        {
          "output_type": "execute_result",
          "data": {
            "text/plain": [
              "{'fit_time': (87.76135993003845,\n",
              "  87.93991732597351,\n",
              "  88.55086994171143,\n",
              "  86.64366674423218,\n",
              "  87.69571805000305),\n",
              " 'test_mae': array([0.45559796, 0.45677462, 0.45444505, 0.45391772, 0.45623413]),\n",
              " 'test_rmse': array([0.60901121, 0.61007716, 0.6073766 , 0.60627519, 0.6095455 ]),\n",
              " 'test_time': (3.0806379318237305,\n",
              "  4.354472398757935,\n",
              "  5.09991455078125,\n",
              "  4.773253679275513,\n",
              "  5.057433605194092)}"
            ]
          },
          "metadata": {},
          "execution_count": 16
        }
      ]
    },
    {
      "cell_type": "code",
      "source": [
        "trainset = data.build_full_trainset()\n",
        "svd.fit(trainset)"
      ],
      "metadata": {
        "colab": {
          "base_uri": "https://localhost:8080/"
        },
        "id": "GFqLypGc29iI",
        "outputId": "5c7c5432-b3c0-4f15-edc8-3de6b22f0014"
      },
      "execution_count": null,
      "outputs": [
        {
          "output_type": "execute_result",
          "data": {
            "text/plain": [
              "<surprise.prediction_algorithms.matrix_factorization.SVD at 0x7f42ecc30bd0>"
            ]
          },
          "metadata": {},
          "execution_count": 17
        }
      ]
    },
    {
      "cell_type": "markdown",
      "source": [
        "## predictions"
      ],
      "metadata": {
        "id": "UB_haJiP3DVp"
      }
    },
    {
      "cell_type": "code",
      "source": [
        "svd.predict(1, 302, 3)"
      ],
      "metadata": {
        "colab": {
          "base_uri": "https://localhost:8080/"
        },
        "id": "pl-wOk7g3AkL",
        "outputId": "4d8e18d4-bd58-4f95-a4de-689e998d0d72"
      },
      "execution_count": null,
      "outputs": [
        {
          "output_type": "execute_result",
          "data": {
            "text/plain": [
              "Prediction(uid=1, iid=302, r_ui=3, est=3.8123312451304496, details={'was_impossible': False})"
            ]
          },
          "metadata": {},
          "execution_count": 18
        }
      ]
    },
    {
      "cell_type": "markdown",
      "source": [
        "For BeerId with ID 1250 , we get an estimated prediction of 3.85. One startling feature of this recommender system is that it doesn't care what the beer is (or what it contains). It works purely on the basis of an assigned beerID and tries to predict ratings based on how the other costumers have predicted the beers."
      ],
      "metadata": {
        "id": "6J5cG4FQ3VSo"
      }
    },
    {
      "cell_type": "markdown",
      "source": [
        "##Bibliography\n",
        "[Getting Started With Movie Recommendetions](https://www.kaggle.com/code/ibtesama/getting-started-with-a-movie-recommendation-system)\n",
        "\n",
        "\n",
        "[MF_RecommenderSystem](https://colab.research.google.com/drive/1hRCowP1bNn4pOkxMtGoptTBLLf6TH9uh)"
      ],
      "metadata": {
        "id": "rbM1n22_AbVX"
      }
    }
  ]
}